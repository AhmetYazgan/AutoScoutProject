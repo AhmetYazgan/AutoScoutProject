{
 "cells": [
  {
   "cell_type": "markdown",
   "metadata": {
    "id": "Bkw3_pB0s1L-"
   },
   "source": [
    "___\n",
    "\n",
    "<p style=\"text-align: center;\"><img src=\"https://docs.google.com/uc?id=1lY0Uj5R04yMY3-ZppPWxqCr5pvBLYPnV\" class=\"img-fluid\" \n",
    "alt=\"CLRSWY\"></p>\n",
    "\n",
    "## <p style=\"background-color:#FDFEFE; font-family:newtimeroman; color:#9d4f8c; font-size:100%; text-align:center; border-radius:10px 10px;\">WAY TO REINVENT YOURSELF</p>\n",
    "\n",
    "## <p style=\"background-color:#FDFEFE; font-family:newtimeroman; color:#060108; font-size:200%; text-align:center; border-radius:10px 10px;\">DA & DVwPY</p>\n",
    "\n",
    "## <p style=\"background-color:#FDFEFE; font-family:newtimeroman; color:#060108; font-size:200%; text-align:center; border-radius:10px 10px;\">The Exploratory Data Analysis (EDA) Project</p>\n",
    "\n",
    "<img src=https://i.ibb.co/wJW61Y2/Used-cars.jpg width=\"700\" height=\"200\">\n",
    "\n",
    "## <p style=\"background-color:#FDFEFE; font-family:newtimeroman; color:#060108; font-size:200%; text-align:center; border-radius:10px 10px;\">AutoScout Car Price Prediction EDA</p>\n",
    "\n"
   ]
  },
  {
   "cell_type": "markdown",
   "metadata": {
    "id": "Z_oWczxZs1MA"
   },
   "source": [
    "## Introduction\n",
    "Welcome to \"***AutoScout Exploratory Data Analysis (EDA) Project***\". This is the project of completing ***Data Analysis & Data Visualization*** Courses and a successful hand-over is mandatory for getting certification for both courses. **Auto Scout** data used in this project scraped from the Website of an online car trading company in 2022, and contains many features of 13 different car makes including 594 models. In this project, you will have the opportunity to apply many commonly used algorithms for Data Cleaning and Exploratory Data Analysis by using a variety of Python libraries, such as Numpy, Pandas, Matplotlib, Seaborn, Scipy, and then you will get a clean dataset for your analysis and pretictive modelling in Machine Learning Path. So you will have the chance to use all the skills you have already learned in the Data Analysis and Visualization courses.\n",
    "\n",
    "**``In this context, the project consists of 3 parts in general:``**\n",
    "* **The first part** is related to ``'Data Cleaning'``. It deals with Incorrect Headers, Incorrect Format, Anomalies, and Dropping useless columns.\n",
    "* **The second part** is related to ``'Filling Data'``, in other words 'Imputation'. It deals with Missing Values. Categorical to numeric transformation, Encoding, is done as well.\n",
    "* **The third part** is related to ``'Handling Outliers of Data'`` via Visualization libraries. So, some insights will be extracted.\n",
    "\n",
    "**``SPECIAL NOTE:``**  However, you are ``free to create your own style``. You do ``NOT`` have to stick to the steps above. Nevertheless, we, the DA & DV instructors, recommend you study each part separately to create a source notebook for your further studies. \n",
    "\n",
    "In order to build your Portfolio in terms of the GitHub account, you need to push your solution file up to your own repository.\n",
    "\n",
    "Please after solving the task, commit your notebook to GitHub and submit its link to LMS page where the project is settled down.\n",
    "\n",
    "**BE NOTED:** Please ``DO NOT FORGET`` to click the submit button.\n",
    "\n",
    "### Some Reminders on Exploratory data analysis (EDA)\n",
    "\n",
    "Exploratory data analysis (EDA) is an especially important activity in the routine of a data analyst or scientist. It enables an in depth understanding of the dataset, define or discard hypotheses and create predictive models on a solid basis. It uses data manipulation techniques and several statistical tools to describe and understand the relationship between variables and how these can impact business. By means of EDA, we can obtain meaningful insights that can impact analysis under the following questions (If a checklist is good enough for pilots to use every flight, it’s good enough for data scientists to use with every dataset).\n",
    "1. What question are you trying to solve (or prove wrong)?\n",
    "2. What kind of data do you have?\n",
    "3. What’s missing from the data?\n",
    "4. Where are the outliers?\n",
    "5. How can you add, change or remove features to get more out of your data?\n",
    "\n",
    "**``Exploratory data analysis (EDA)``** is often an **iterative brainstorming process** where you pose a question, review the data, and develop further questions to investigate before beginning model development work. The image below shows how the brainstorming phase is connected with that of understanding the variables and how this in turn is connected again with the brainstorming phase.<br>\n",
    "\n",
    "<img src=https://i.ibb.co/k0MC950/EDA-Process.png width=\"300\" height=\"100\">\n",
    "\n",
    "[Image Credit: Andrew D.](https://towardsdatascience.com/exploratory-data-analysis-in-python-a-step-by-step-process-d0dfa6bf94ee)\n",
    "\n"
   ]
  },
  {
   "cell_type": "code",
   "execution_count": 1,
   "metadata": {},
   "outputs": [],
   "source": [
    "import pandas as pd\n",
    "import numpy as np\n",
    "import seaborn as sns\n",
    "import matplotlib.pyplot as plt\n",
    "%matplotlib inline\n",
    "import re"
   ]
  },
  {
   "cell_type": "code",
   "execution_count": 2,
   "metadata": {
    "scrolled": true
   },
   "outputs": [
    {
     "data": {
      "text/html": [
       "<div>\n",
       "<style scoped>\n",
       "    .dataframe tbody tr th:only-of-type {\n",
       "        vertical-align: middle;\n",
       "    }\n",
       "\n",
       "    .dataframe tbody tr th {\n",
       "        vertical-align: top;\n",
       "    }\n",
       "\n",
       "    .dataframe thead th {\n",
       "        text-align: right;\n",
       "    }\n",
       "</style>\n",
       "<table border=\"1\" class=\"dataframe\">\n",
       "  <thead>\n",
       "    <tr style=\"text-align: right;\">\n",
       "      <th></th>\n",
       "      <th>make_model</th>\n",
       "      <th>short_description</th>\n",
       "      <th>make</th>\n",
       "      <th>model</th>\n",
       "      <th>location</th>\n",
       "      <th>price</th>\n",
       "      <th>Body type</th>\n",
       "      <th>Type</th>\n",
       "      <th>Doors</th>\n",
       "      <th>Country version</th>\n",
       "      <th>...</th>\n",
       "      <th>CO₂-efficiency</th>\n",
       "      <th>Fuel consumption (WLTP)</th>\n",
       "      <th>CO₂-emissions (WLTP)</th>\n",
       "      <th>Available from</th>\n",
       "      <th>Taxi or rental car</th>\n",
       "      <th>Availability</th>\n",
       "      <th>Last timing belt change</th>\n",
       "      <th>Electric Range (WLTP)</th>\n",
       "      <th>Power consumption (WLTP)</th>\n",
       "      <th>Battery Ownership</th>\n",
       "    </tr>\n",
       "  </thead>\n",
       "  <tbody>\n",
       "    <tr>\n",
       "      <th>0</th>\n",
       "      <td>Mercedes-Benz A 160</td>\n",
       "      <td>CDi</td>\n",
       "      <td>\\nMercedes-Benz\\n</td>\n",
       "      <td>[\\n, A 160 ,\\n]</td>\n",
       "      <td>P.I. EL PALMAR C/FORJA 6,  11500 PUERTO DE SAN...</td>\n",
       "      <td>€ 16,950.-</td>\n",
       "      <td>[\\n, Compact, \\n]</td>\n",
       "      <td>[\\n, Used, \\n]</td>\n",
       "      <td>[\\n, 5, \\n]</td>\n",
       "      <td>[\\n, Spain, \\n]</td>\n",
       "      <td>...</td>\n",
       "      <td>NaN</td>\n",
       "      <td>NaN</td>\n",
       "      <td>NaN</td>\n",
       "      <td>NaN</td>\n",
       "      <td>NaN</td>\n",
       "      <td>NaN</td>\n",
       "      <td>NaN</td>\n",
       "      <td>NaN</td>\n",
       "      <td>NaN</td>\n",
       "      <td>NaN</td>\n",
       "    </tr>\n",
       "    <tr>\n",
       "      <th>1</th>\n",
       "      <td>Mercedes-Benz EQE 350</td>\n",
       "      <td>350+</td>\n",
       "      <td>\\nMercedes-Benz\\n</td>\n",
       "      <td>[\\n, EQE 350 ,\\n]</td>\n",
       "      <td>APARTADO DE CORREOS 1032,  26140 LOGROÑO, ES</td>\n",
       "      <td>€ 80,900.-</td>\n",
       "      <td>[\\n, Compact, \\n]</td>\n",
       "      <td>[\\n, Pre-registered, \\n]</td>\n",
       "      <td>[\\n, 4, \\n]</td>\n",
       "      <td>[\\n, Spain, \\n]</td>\n",
       "      <td>...</td>\n",
       "      <td>NaN</td>\n",
       "      <td>NaN</td>\n",
       "      <td>NaN</td>\n",
       "      <td>NaN</td>\n",
       "      <td>NaN</td>\n",
       "      <td>NaN</td>\n",
       "      <td>NaN</td>\n",
       "      <td>NaN</td>\n",
       "      <td>NaN</td>\n",
       "      <td>NaN</td>\n",
       "    </tr>\n",
       "    <tr>\n",
       "      <th>2</th>\n",
       "      <td>Mercedes-Benz A 45 AMG</td>\n",
       "      <td>S 4Matic+ 8G-DCT</td>\n",
       "      <td>\\nMercedes-Benz\\n</td>\n",
       "      <td>[\\n, A 45 AMG ,\\n]</td>\n",
       "      <td>PORT. TARRACO, MOLL DE LLEVANT, Nº 5, LOC. 6-8...</td>\n",
       "      <td>€ 69,900.-</td>\n",
       "      <td>[\\n, Compact, \\n]</td>\n",
       "      <td>[\\n, Used, \\n]</td>\n",
       "      <td>[\\n, 5, \\n]</td>\n",
       "      <td>[\\n, Spain, \\n]</td>\n",
       "      <td>...</td>\n",
       "      <td>NaN</td>\n",
       "      <td>NaN</td>\n",
       "      <td>NaN</td>\n",
       "      <td>NaN</td>\n",
       "      <td>NaN</td>\n",
       "      <td>NaN</td>\n",
       "      <td>NaN</td>\n",
       "      <td>NaN</td>\n",
       "      <td>NaN</td>\n",
       "      <td>NaN</td>\n",
       "    </tr>\n",
       "    <tr>\n",
       "      <th>3</th>\n",
       "      <td>Mercedes-Benz A 35 AMG</td>\n",
       "      <td>4Matic+ 7G-DCT</td>\n",
       "      <td>\\nMercedes-Benz\\n</td>\n",
       "      <td>[\\n, A 35 AMG ,\\n]</td>\n",
       "      <td>Carrer de Provença, 31 Local,  8029 BARCELONA, ES</td>\n",
       "      <td>€ 46,990.-</td>\n",
       "      <td>[\\n, Compact, \\n]</td>\n",
       "      <td>[\\n, Used, \\n]</td>\n",
       "      <td>[\\n, 5, \\n]</td>\n",
       "      <td>[\\n, Spain, \\n]</td>\n",
       "      <td>...</td>\n",
       "      <td>NaN</td>\n",
       "      <td>NaN</td>\n",
       "      <td>NaN</td>\n",
       "      <td>NaN</td>\n",
       "      <td>NaN</td>\n",
       "      <td>NaN</td>\n",
       "      <td>NaN</td>\n",
       "      <td>NaN</td>\n",
       "      <td>NaN</td>\n",
       "      <td>NaN</td>\n",
       "    </tr>\n",
       "    <tr>\n",
       "      <th>4</th>\n",
       "      <td>Mercedes-Benz A 45 AMG</td>\n",
       "      <td>200CDI BE Line 4M 7G-DCT</td>\n",
       "      <td>\\nMercedes-Benz\\n</td>\n",
       "      <td>[\\n, A 45 AMG ,\\n]</td>\n",
       "      <td>CARRIL ARAGONES 4,  30007 CASILLAS, ES</td>\n",
       "      <td>€ 16,800.-</td>\n",
       "      <td>[\\n, Compact, \\n]</td>\n",
       "      <td>[\\n, Used, \\n]</td>\n",
       "      <td>[\\n, 5, \\n]</td>\n",
       "      <td>[\\n, Spain, \\n]</td>\n",
       "      <td>...</td>\n",
       "      <td>NaN</td>\n",
       "      <td>NaN</td>\n",
       "      <td>NaN</td>\n",
       "      <td>NaN</td>\n",
       "      <td>NaN</td>\n",
       "      <td>NaN</td>\n",
       "      <td>NaN</td>\n",
       "      <td>NaN</td>\n",
       "      <td>NaN</td>\n",
       "      <td>NaN</td>\n",
       "    </tr>\n",
       "    <tr>\n",
       "      <th>...</th>\n",
       "      <td>...</td>\n",
       "      <td>...</td>\n",
       "      <td>...</td>\n",
       "      <td>...</td>\n",
       "      <td>...</td>\n",
       "      <td>...</td>\n",
       "      <td>...</td>\n",
       "      <td>...</td>\n",
       "      <td>...</td>\n",
       "      <td>...</td>\n",
       "      <td>...</td>\n",
       "      <td>...</td>\n",
       "      <td>...</td>\n",
       "      <td>...</td>\n",
       "      <td>...</td>\n",
       "      <td>...</td>\n",
       "      <td>...</td>\n",
       "      <td>...</td>\n",
       "      <td>...</td>\n",
       "      <td>...</td>\n",
       "      <td>...</td>\n",
       "    </tr>\n",
       "    <tr>\n",
       "      <th>29475</th>\n",
       "      <td>Volvo S40</td>\n",
       "      <td>2.4i Momentum/ Airco/ NAP/ APK/ Elek. Ramen</td>\n",
       "      <td>\\nVolvo\\n</td>\n",
       "      <td>[\\n, S40 ,\\n]</td>\n",
       "      <td>Stobbeweg 6,  2461 EX TER AAR, NL</td>\n",
       "      <td>€ 5,499.-</td>\n",
       "      <td>[\\n, Sedan, \\n]</td>\n",
       "      <td>[\\n, Used, \\n]</td>\n",
       "      <td>[\\n, 4, \\n]</td>\n",
       "      <td>NaN</td>\n",
       "      <td>...</td>\n",
       "      <td>NaN</td>\n",
       "      <td>NaN</td>\n",
       "      <td>NaN</td>\n",
       "      <td>NaN</td>\n",
       "      <td>NaN</td>\n",
       "      <td>NaN</td>\n",
       "      <td>NaN</td>\n",
       "      <td>NaN</td>\n",
       "      <td>NaN</td>\n",
       "      <td>NaN</td>\n",
       "    </tr>\n",
       "    <tr>\n",
       "      <th>29476</th>\n",
       "      <td>Volvo C30</td>\n",
       "      <td>1.6 D DRIVe Start/Stop R-design</td>\n",
       "      <td>\\nVolvo\\n</td>\n",
       "      <td>[\\n, C30 ,\\n]</td>\n",
       "      <td>Sur rendez-vous,  5060 Sambreville, BE</td>\n",
       "      <td>€ 7,300.-</td>\n",
       "      <td>[\\n, Sedan, \\n]</td>\n",
       "      <td>[\\n, Used, \\n]</td>\n",
       "      <td>[\\n, 3, \\n]</td>\n",
       "      <td>[\\n, Belgium, \\n]</td>\n",
       "      <td>...</td>\n",
       "      <td>NaN</td>\n",
       "      <td>NaN</td>\n",
       "      <td>NaN</td>\n",
       "      <td>NaN</td>\n",
       "      <td>NaN</td>\n",
       "      <td>NaN</td>\n",
       "      <td>NaN</td>\n",
       "      <td>NaN</td>\n",
       "      <td>NaN</td>\n",
       "      <td>NaN</td>\n",
       "    </tr>\n",
       "    <tr>\n",
       "      <th>29477</th>\n",
       "      <td>Volvo S90</td>\n",
       "      <td>T5 AUT(8) MOMENTUM BUSINESS SCHUIFDAK 360GR CA...</td>\n",
       "      <td>\\nVolvo\\n</td>\n",
       "      <td>[\\n, S90 ,\\n]</td>\n",
       "      <td>Bergambachterstraat 5,  2871 JB SCHOONHOVEN, NL</td>\n",
       "      <td>€ 29,900.-</td>\n",
       "      <td>[\\n, Sedan, \\n]</td>\n",
       "      <td>[\\n, Used, \\n]</td>\n",
       "      <td>[\\n, 4, \\n]</td>\n",
       "      <td>NaN</td>\n",
       "      <td>...</td>\n",
       "      <td>NaN</td>\n",
       "      <td>NaN</td>\n",
       "      <td>NaN</td>\n",
       "      <td>NaN</td>\n",
       "      <td>NaN</td>\n",
       "      <td>NaN</td>\n",
       "      <td>NaN</td>\n",
       "      <td>NaN</td>\n",
       "      <td>NaN</td>\n",
       "      <td>NaN</td>\n",
       "    </tr>\n",
       "    <tr>\n",
       "      <th>29478</th>\n",
       "      <td>Volvo S80</td>\n",
       "      <td>2.9 Executive G. NETTE AUTO! LEER! NAVI! CRUIS...</td>\n",
       "      <td>\\nVolvo\\n</td>\n",
       "      <td>[\\n, S80 ,\\n]</td>\n",
       "      <td>Lage Ham 106,  5102 AE DONGEN, NL</td>\n",
       "      <td>€ 4,440.-</td>\n",
       "      <td>[\\n, Sedan, \\n]</td>\n",
       "      <td>[\\n, Used, \\n]</td>\n",
       "      <td>[\\n, 4, \\n]</td>\n",
       "      <td>NaN</td>\n",
       "      <td>...</td>\n",
       "      <td>NaN</td>\n",
       "      <td>NaN</td>\n",
       "      <td>NaN</td>\n",
       "      <td>NaN</td>\n",
       "      <td>NaN</td>\n",
       "      <td>NaN</td>\n",
       "      <td>NaN</td>\n",
       "      <td>NaN</td>\n",
       "      <td>NaN</td>\n",
       "      <td>NaN</td>\n",
       "    </tr>\n",
       "    <tr>\n",
       "      <th>29479</th>\n",
       "      <td>NaN</td>\n",
       "      <td>NaN</td>\n",
       "      <td>NaN</td>\n",
       "      <td>NaN</td>\n",
       "      <td>NaN</td>\n",
       "      <td>NaN</td>\n",
       "      <td>NaN</td>\n",
       "      <td>NaN</td>\n",
       "      <td>NaN</td>\n",
       "      <td>NaN</td>\n",
       "      <td>...</td>\n",
       "      <td>NaN</td>\n",
       "      <td>NaN</td>\n",
       "      <td>NaN</td>\n",
       "      <td>NaN</td>\n",
       "      <td>NaN</td>\n",
       "      <td>NaN</td>\n",
       "      <td>NaN</td>\n",
       "      <td>NaN</td>\n",
       "      <td>NaN</td>\n",
       "      <td>NaN</td>\n",
       "    </tr>\n",
       "  </tbody>\n",
       "</table>\n",
       "<p>29480 rows × 58 columns</p>\n",
       "</div>"
      ],
      "text/plain": [
       "                   make_model  \\\n",
       "0         Mercedes-Benz A 160   \n",
       "1       Mercedes-Benz EQE 350   \n",
       "2      Mercedes-Benz A 45 AMG   \n",
       "3      Mercedes-Benz A 35 AMG   \n",
       "4      Mercedes-Benz A 45 AMG   \n",
       "...                       ...   \n",
       "29475               Volvo S40   \n",
       "29476               Volvo C30   \n",
       "29477               Volvo S90   \n",
       "29478               Volvo S80   \n",
       "29479                     NaN   \n",
       "\n",
       "                                       short_description               make  \\\n",
       "0                                                    CDi  \\nMercedes-Benz\\n   \n",
       "1                                                   350+  \\nMercedes-Benz\\n   \n",
       "2                                       S 4Matic+ 8G-DCT  \\nMercedes-Benz\\n   \n",
       "3                                         4Matic+ 7G-DCT  \\nMercedes-Benz\\n   \n",
       "4                               200CDI BE Line 4M 7G-DCT  \\nMercedes-Benz\\n   \n",
       "...                                                  ...                ...   \n",
       "29475        2.4i Momentum/ Airco/ NAP/ APK/ Elek. Ramen          \\nVolvo\\n   \n",
       "29476                    1.6 D DRIVe Start/Stop R-design          \\nVolvo\\n   \n",
       "29477  T5 AUT(8) MOMENTUM BUSINESS SCHUIFDAK 360GR CA...          \\nVolvo\\n   \n",
       "29478  2.9 Executive G. NETTE AUTO! LEER! NAVI! CRUIS...          \\nVolvo\\n   \n",
       "29479                                                NaN                NaN   \n",
       "\n",
       "                    model                                           location  \\\n",
       "0         [\\n, A 160 ,\\n]  P.I. EL PALMAR C/FORJA 6,  11500 PUERTO DE SAN...   \n",
       "1       [\\n, EQE 350 ,\\n]       APARTADO DE CORREOS 1032,  26140 LOGROÑO, ES   \n",
       "2      [\\n, A 45 AMG ,\\n]  PORT. TARRACO, MOLL DE LLEVANT, Nº 5, LOC. 6-8...   \n",
       "3      [\\n, A 35 AMG ,\\n]  Carrer de Provença, 31 Local,  8029 BARCELONA, ES   \n",
       "4      [\\n, A 45 AMG ,\\n]             CARRIL ARAGONES 4,  30007 CASILLAS, ES   \n",
       "...                   ...                                                ...   \n",
       "29475       [\\n, S40 ,\\n]                  Stobbeweg 6,  2461 EX TER AAR, NL   \n",
       "29476       [\\n, C30 ,\\n]             Sur rendez-vous,  5060 Sambreville, BE   \n",
       "29477       [\\n, S90 ,\\n]    Bergambachterstraat 5,  2871 JB SCHOONHOVEN, NL   \n",
       "29478       [\\n, S80 ,\\n]                  Lage Ham 106,  5102 AE DONGEN, NL   \n",
       "29479                 NaN                                                NaN   \n",
       "\n",
       "            price          Body type                      Type        Doors  \\\n",
       "0      € 16,950.-  [\\n, Compact, \\n]            [\\n, Used, \\n]  [\\n, 5, \\n]   \n",
       "1      € 80,900.-  [\\n, Compact, \\n]  [\\n, Pre-registered, \\n]  [\\n, 4, \\n]   \n",
       "2      € 69,900.-  [\\n, Compact, \\n]            [\\n, Used, \\n]  [\\n, 5, \\n]   \n",
       "3      € 46,990.-  [\\n, Compact, \\n]            [\\n, Used, \\n]  [\\n, 5, \\n]   \n",
       "4      € 16,800.-  [\\n, Compact, \\n]            [\\n, Used, \\n]  [\\n, 5, \\n]   \n",
       "...           ...                ...                       ...          ...   \n",
       "29475   € 5,499.-    [\\n, Sedan, \\n]            [\\n, Used, \\n]  [\\n, 4, \\n]   \n",
       "29476   € 7,300.-    [\\n, Sedan, \\n]            [\\n, Used, \\n]  [\\n, 3, \\n]   \n",
       "29477  € 29,900.-    [\\n, Sedan, \\n]            [\\n, Used, \\n]  [\\n, 4, \\n]   \n",
       "29478   € 4,440.-    [\\n, Sedan, \\n]            [\\n, Used, \\n]  [\\n, 4, \\n]   \n",
       "29479         NaN                NaN                       NaN          NaN   \n",
       "\n",
       "         Country version  ... CO₂-efficiency Fuel consumption (WLTP)  \\\n",
       "0        [\\n, Spain, \\n]  ...            NaN                     NaN   \n",
       "1        [\\n, Spain, \\n]  ...            NaN                     NaN   \n",
       "2        [\\n, Spain, \\n]  ...            NaN                     NaN   \n",
       "3        [\\n, Spain, \\n]  ...            NaN                     NaN   \n",
       "4        [\\n, Spain, \\n]  ...            NaN                     NaN   \n",
       "...                  ...  ...            ...                     ...   \n",
       "29475                NaN  ...            NaN                     NaN   \n",
       "29476  [\\n, Belgium, \\n]  ...            NaN                     NaN   \n",
       "29477                NaN  ...            NaN                     NaN   \n",
       "29478                NaN  ...            NaN                     NaN   \n",
       "29479                NaN  ...            NaN                     NaN   \n",
       "\n",
       "      CO₂-emissions (WLTP) Available from Taxi or rental car Availability  \\\n",
       "0                      NaN            NaN                NaN          NaN   \n",
       "1                      NaN            NaN                NaN          NaN   \n",
       "2                      NaN            NaN                NaN          NaN   \n",
       "3                      NaN            NaN                NaN          NaN   \n",
       "4                      NaN            NaN                NaN          NaN   \n",
       "...                    ...            ...                ...          ...   \n",
       "29475                  NaN            NaN                NaN          NaN   \n",
       "29476                  NaN            NaN                NaN          NaN   \n",
       "29477                  NaN            NaN                NaN          NaN   \n",
       "29478                  NaN            NaN                NaN          NaN   \n",
       "29479                  NaN            NaN                NaN          NaN   \n",
       "\n",
       "      Last timing belt change Electric Range (WLTP) Power consumption (WLTP)  \\\n",
       "0                         NaN                   NaN                      NaN   \n",
       "1                         NaN                   NaN                      NaN   \n",
       "2                         NaN                   NaN                      NaN   \n",
       "3                         NaN                   NaN                      NaN   \n",
       "4                         NaN                   NaN                      NaN   \n",
       "...                       ...                   ...                      ...   \n",
       "29475                     NaN                   NaN                      NaN   \n",
       "29476                     NaN                   NaN                      NaN   \n",
       "29477                     NaN                   NaN                      NaN   \n",
       "29478                     NaN                   NaN                      NaN   \n",
       "29479                     NaN                   NaN                      NaN   \n",
       "\n",
       "      Battery Ownership  \n",
       "0                   NaN  \n",
       "1                   NaN  \n",
       "2                   NaN  \n",
       "3                   NaN  \n",
       "4                   NaN  \n",
       "...                 ...  \n",
       "29475               NaN  \n",
       "29476               NaN  \n",
       "29477               NaN  \n",
       "29478               NaN  \n",
       "29479               NaN  \n",
       "\n",
       "[29480 rows x 58 columns]"
      ]
     },
     "execution_count": 2,
     "metadata": {},
     "output_type": "execute_result"
    }
   ],
   "source": [
    "df = pd.read_json('as24_cars.json')\n",
    "df"
   ]
  },
  {
   "cell_type": "markdown",
   "metadata": {
    "id": "vvgJ5KWTs1MB"
   },
   "source": [
    "# PART- 1 `( Data Cleaning )`"
   ]
  },
  {
   "cell_type": "markdown",
   "metadata": {},
   "source": [
    "## <p style=\"background-color:yellow; font-family:newtimeroman; color:blue; font-size:150%; text-align:center; border-radius:10px 10px;\">Renaming of columns</p> "
   ]
  },
  {
   "cell_type": "code",
   "execution_count": 3,
   "metadata": {},
   "outputs": [
    {
     "data": {
      "text/plain": [
       "Index(['make_model', 'short_description', 'make', 'model', 'location', 'price',\n",
       "       'Body type', 'Type', 'Doors', 'Country version', 'Offer number',\n",
       "       'Warranty', 'Mileage', 'First registration', 'Gearbox', 'Fuel type',\n",
       "       'Colour', 'Paint', 'desc', 'seller', 'Seats', 'Power', 'Engine size',\n",
       "       'Gears', 'CO₂-emissions', 'Manufacturer colour', 'Drivetrain',\n",
       "       'Cylinders', 'Fuel consumption', '\\nComfort & Convenience\\n',\n",
       "       '\\nEntertainment & Media\\n', '\\nSafety & Security\\n', '\\nExtras\\n',\n",
       "       'Empty weight', 'Model code', 'General inspection', 'Last service',\n",
       "       'Full service history', 'Non-smoker vehicle', 'Emission class',\n",
       "       'Emissions sticker', 'Upholstery colour', 'Upholstery',\n",
       "       'Production date', 'Previous owner', 'Other fuel types',\n",
       "       'Power consumption', 'Energy efficiency class', 'CO₂-efficiency',\n",
       "       'Fuel consumption (WLTP)', 'CO₂-emissions (WLTP)', 'Available from',\n",
       "       'Taxi or rental car', 'Availability', 'Last timing belt change',\n",
       "       'Electric Range (WLTP)', 'Power consumption (WLTP)',\n",
       "       'Battery Ownership'],\n",
       "      dtype='object')"
      ]
     },
     "execution_count": 3,
     "metadata": {},
     "output_type": "execute_result"
    }
   ],
   "source": [
    "df.columns"
   ]
  },
  {
   "cell_type": "code",
   "execution_count": 4,
   "metadata": {},
   "outputs": [
    {
     "data": {
      "text/plain": [
       "Index(['Make_Model', 'Short_Description', 'Make', 'Model', 'Location', 'Price',\n",
       "       'Body_Type', 'Type', 'Doors', 'Country_Version', 'Offer_Number',\n",
       "       'Warranty', 'Mileage', 'First_Registration', 'Gearbox', 'Fuel_Type',\n",
       "       'Colour', 'Paint', 'Desc', 'Seller', 'Seats', 'Power', 'Engine_Size',\n",
       "       'Gears', 'Co₂-Emissions', 'Manufacturer_Colour', 'Drivetrain',\n",
       "       'Cylinders', 'Fuel_Consumption', 'Comfort_&_Convenience',\n",
       "       'Entertainment_&_Media', 'Safety_&_Security', 'Extras', 'Empty_Weight',\n",
       "       'Model_Code', 'General_Inspection', 'Last_Service',\n",
       "       'Full_Service_History', 'Non-Smoker_Vehicle', 'Emission_Class',\n",
       "       'Emissions_Sticker', 'Upholstery_Colour', 'Upholstery',\n",
       "       'Production_Date', 'Previous_Owner', 'Other_Fuel_Types',\n",
       "       'Power_Consumption', 'Energy_Efficiency_Class', 'Co₂-Efficiency',\n",
       "       'Fuel_Consumption_(Wltp)', 'Co₂-Emissions_(Wltp)', 'Available_From',\n",
       "       'Taxi_Or_Rental_Car', 'Availability', 'Last_Timing_Belt_Change',\n",
       "       'Electric_Range_(Wltp)', 'Power_Consumption_(Wltp)',\n",
       "       'Battery_Ownership'],\n",
       "      dtype='object')"
      ]
     },
     "execution_count": 4,
     "metadata": {},
     "output_type": "execute_result"
    }
   ],
   "source": [
    "df.columns = df.columns.str.strip()  \n",
    "\n",
    "def modify_column_name(column_name):\n",
    "    modified_name = re.sub(r'\\s+', '_', column_name.strip())  \n",
    "    return modified_name.title()  \n",
    "\n",
    "df.columns = df.columns.map(modify_column_name) \n",
    "df.columns"
   ]
  },
  {
   "cell_type": "code",
   "execution_count": 5,
   "metadata": {},
   "outputs": [
    {
     "data": {
      "text/html": [
       "<div>\n",
       "<style scoped>\n",
       "    .dataframe tbody tr th:only-of-type {\n",
       "        vertical-align: middle;\n",
       "    }\n",
       "\n",
       "    .dataframe tbody tr th {\n",
       "        vertical-align: top;\n",
       "    }\n",
       "\n",
       "    .dataframe thead th {\n",
       "        text-align: right;\n",
       "    }\n",
       "</style>\n",
       "<table border=\"1\" class=\"dataframe\">\n",
       "  <thead>\n",
       "    <tr style=\"text-align: right;\">\n",
       "      <th></th>\n",
       "      <th>Make_Model</th>\n",
       "      <th>Short_Description</th>\n",
       "      <th>Make</th>\n",
       "      <th>Model</th>\n",
       "      <th>Location</th>\n",
       "      <th>Price</th>\n",
       "      <th>Body_Type</th>\n",
       "      <th>Type</th>\n",
       "      <th>Doors</th>\n",
       "      <th>Country_Version</th>\n",
       "      <th>...</th>\n",
       "      <th>Co₂-Efficiency</th>\n",
       "      <th>Fuel_Consumption_(Wltp)</th>\n",
       "      <th>Co₂-Emissions_(Wltp)</th>\n",
       "      <th>Available_From</th>\n",
       "      <th>Taxi_Or_Rental_Car</th>\n",
       "      <th>Availability</th>\n",
       "      <th>Last_Timing_Belt_Change</th>\n",
       "      <th>Electric_Range_(Wltp)</th>\n",
       "      <th>Power_Consumption_(Wltp)</th>\n",
       "      <th>Battery_Ownership</th>\n",
       "    </tr>\n",
       "  </thead>\n",
       "  <tbody>\n",
       "    <tr>\n",
       "      <th>0</th>\n",
       "      <td>Mercedes-Benz A 160</td>\n",
       "      <td>CDi</td>\n",
       "      <td>\\nMercedes-Benz\\n</td>\n",
       "      <td>[\\n, A 160 ,\\n]</td>\n",
       "      <td>P.I. EL PALMAR C/FORJA 6,  11500 PUERTO DE SAN...</td>\n",
       "      <td>€ 16,950.-</td>\n",
       "      <td>[\\n, Compact, \\n]</td>\n",
       "      <td>[\\n, Used, \\n]</td>\n",
       "      <td>[\\n, 5, \\n]</td>\n",
       "      <td>[\\n, Spain, \\n]</td>\n",
       "      <td>...</td>\n",
       "      <td>NaN</td>\n",
       "      <td>NaN</td>\n",
       "      <td>NaN</td>\n",
       "      <td>NaN</td>\n",
       "      <td>NaN</td>\n",
       "      <td>NaN</td>\n",
       "      <td>NaN</td>\n",
       "      <td>NaN</td>\n",
       "      <td>NaN</td>\n",
       "      <td>NaN</td>\n",
       "    </tr>\n",
       "  </tbody>\n",
       "</table>\n",
       "<p>1 rows × 58 columns</p>\n",
       "</div>"
      ],
      "text/plain": [
       "            Make_Model Short_Description               Make            Model  \\\n",
       "0  Mercedes-Benz A 160               CDi  \\nMercedes-Benz\\n  [\\n, A 160 ,\\n]   \n",
       "\n",
       "                                            Location       Price  \\\n",
       "0  P.I. EL PALMAR C/FORJA 6,  11500 PUERTO DE SAN...  € 16,950.-   \n",
       "\n",
       "           Body_Type            Type        Doors  Country_Version  ...  \\\n",
       "0  [\\n, Compact, \\n]  [\\n, Used, \\n]  [\\n, 5, \\n]  [\\n, Spain, \\n]  ...   \n",
       "\n",
       "  Co₂-Efficiency Fuel_Consumption_(Wltp) Co₂-Emissions_(Wltp) Available_From  \\\n",
       "0            NaN                     NaN                  NaN            NaN   \n",
       "\n",
       "  Taxi_Or_Rental_Car Availability Last_Timing_Belt_Change  \\\n",
       "0                NaN          NaN                     NaN   \n",
       "\n",
       "  Electric_Range_(Wltp) Power_Consumption_(Wltp) Battery_Ownership  \n",
       "0                   NaN                      NaN               NaN  \n",
       "\n",
       "[1 rows x 58 columns]"
      ]
     },
     "execution_count": 5,
     "metadata": {},
     "output_type": "execute_result"
    }
   ],
   "source": [
    "df.head(1)"
   ]
  },
  {
   "cell_type": "markdown",
   "metadata": {},
   "source": [
    "*I created 2 copy of my df to avoid confusion"
   ]
  },
  {
   "cell_type": "code",
   "execution_count": 6,
   "metadata": {},
   "outputs": [],
   "source": [
    "df1=df.copy()\n",
    "df0=df.copy()"
   ]
  },
  {
   "cell_type": "markdown",
   "metadata": {},
   "source": [
    "## <p style=\"background-color:yellow; font-family:newtimeroman; color:blue; font-size:150%; text-align:center; border-radius:10px 10px;\">Reorganising dirty columns</p> "
   ]
  },
  {
   "cell_type": "code",
   "execution_count": 7,
   "metadata": {
    "scrolled": false
   },
   "outputs": [
    {
     "data": {
      "text/plain": [
       "<bound method IndexOpsMixin.value_counts of Make_Model                                              Mercedes-Benz EQE 350\n",
       "Short_Description                                                        350+\n",
       "Make                                                        \\nMercedes-Benz\\n\n",
       "Model                                                       [\\n, EQE 350 ,\\n]\n",
       "Location                         APARTADO DE CORREOS 1032,  26140 LOGROÑO, ES\n",
       "Price                                                              € 80,900.-\n",
       "Body_Type                                                   [\\n, Compact, \\n]\n",
       "Type                                                 [\\n, Pre-registered, \\n]\n",
       "Doors                                                             [\\n, 4, \\n]\n",
       "Country_Version                                               [\\n, Spain, \\n]\n",
       "Offer_Number                                                [\\n, 7054863, \\n]\n",
       "Warranty                                                  [\\n, 24 months, \\n]\n",
       "Mileage                                                              5,000 km\n",
       "First_Registration                                                    06/2022\n",
       "Gearbox                                                       [\\nAutomatic\\n]\n",
       "Fuel_Type                                                            Electric\n",
       "Colour                                                                    NaN\n",
       "Paint                                                                     NaN\n",
       "Desc                        [ , Precio al contado: 88900 euros,  , AUTO OJ...\n",
       "Seller                                                                 Dealer\n",
       "Seats                                                             [\\n, 5, \\n]\n",
       "Power                                                   [\\n215 kW (292 hp)\\n]\n",
       "Engine_Size                                                        [\\n1 cc\\n]\n",
       "Gears                                                                 [\\n9\\n]\n",
       "Co₂-Emissions                                                  0 g/km (comb.)\n",
       "Manufacturer_Colour                                           Negro Obsidiana\n",
       "Drivetrain                                                                NaN\n",
       "Cylinders                                                                 NaN\n",
       "Fuel_Consumption                                                          NaN\n",
       "Comfort_&_Convenience                                                     NaN\n",
       "Entertainment_&_Media                                                     NaN\n",
       "Safety_&_Security                                                         NaN\n",
       "Extras                                                                    NaN\n",
       "Empty_Weight                                                              NaN\n",
       "Model_Code                                                                NaN\n",
       "General_Inspection                                                        NaN\n",
       "Last_Service                                                              NaN\n",
       "Full_Service_History                                                      NaN\n",
       "Non-Smoker_Vehicle                                                        NaN\n",
       "Emission_Class                                                            NaN\n",
       "Emissions_Sticker                                                         NaN\n",
       "Upholstery_Colour                                                         NaN\n",
       "Upholstery                                                                NaN\n",
       "Production_Date                                                           NaN\n",
       "Previous_Owner                                                            NaN\n",
       "Other_Fuel_Types                                                          NaN\n",
       "Power_Consumption                                                         NaN\n",
       "Energy_Efficiency_Class                                                   NaN\n",
       "Co₂-Efficiency                                                            NaN\n",
       "Fuel_Consumption_(Wltp)                                                   NaN\n",
       "Co₂-Emissions_(Wltp)                                                      NaN\n",
       "Available_From                                                            NaN\n",
       "Taxi_Or_Rental_Car                                                        NaN\n",
       "Availability                                                              NaN\n",
       "Last_Timing_Belt_Change                                                   NaN\n",
       "Electric_Range_(Wltp)                                                     NaN\n",
       "Power_Consumption_(Wltp)                                                  NaN\n",
       "Battery_Ownership                                                         NaN\n",
       "Name: 1, dtype: object>"
      ]
     },
     "execution_count": 7,
     "metadata": {},
     "output_type": "execute_result"
    }
   ],
   "source": [
    "df.iloc[1].value_counts"
   ]
  },
  {
   "cell_type": "markdown",
   "metadata": {},
   "source": [
    "** <b>Column name of 'Make'<b>"
   ]
  },
  {
   "cell_type": "code",
   "execution_count": 8,
   "metadata": {},
   "outputs": [
    {
     "data": {
      "text/plain": [
       "0        Mercedes-Benz\n",
       "1        Mercedes-Benz\n",
       "2        Mercedes-Benz\n",
       "3        Mercedes-Benz\n",
       "4        Mercedes-Benz\n",
       "             ...      \n",
       "29475            Volvo\n",
       "29476            Volvo\n",
       "29477            Volvo\n",
       "29478            Volvo\n",
       "29479              NaN\n",
       "Name: Make, Length: 29480, dtype: object"
      ]
     },
     "execution_count": 8,
     "metadata": {},
     "output_type": "execute_result"
    }
   ],
   "source": [
    "df['Make'] = df['Make'].apply(lambda item: re.sub(r'[\\n,]', '', item) if type(item) == str else item)\n",
    "df['Make']"
   ]
  },
  {
   "cell_type": "markdown",
   "metadata": {},
   "source": [
    "** <b>Column name of 'Model'<b>"
   ]
  },
  {
   "cell_type": "code",
   "execution_count": 9,
   "metadata": {},
   "outputs": [
    {
     "data": {
      "text/plain": [
       "0           \\n, A 160 ,\\n\n",
       "1         \\n, EQE 350 ,\\n\n",
       "2        \\n, A 45 AMG ,\\n\n",
       "3        \\n, A 35 AMG ,\\n\n",
       "4        \\n, A 45 AMG ,\\n\n",
       "               ...       \n",
       "29475         \\n, S40 ,\\n\n",
       "29476         \\n, C30 ,\\n\n",
       "29477         \\n, S90 ,\\n\n",
       "29478         \\n, S80 ,\\n\n",
       "29479                 NaN\n",
       "Name: Model, Length: 29480, dtype: object"
      ]
     },
     "execution_count": 9,
     "metadata": {},
     "output_type": "execute_result"
    }
   ],
   "source": [
    "df['Model'] = df['Model'].apply(lambda item: \",\".join(item) if type(item) == list else item)\n",
    "df['Model']"
   ]
  },
  {
   "cell_type": "code",
   "execution_count": 10,
   "metadata": {},
   "outputs": [
    {
     "data": {
      "text/plain": [
       "0          A160\n",
       "1        EQE350\n",
       "2        A45AMG\n",
       "3        A35AMG\n",
       "4        A45AMG\n",
       "          ...  \n",
       "29475       S40\n",
       "29476       C30\n",
       "29477       S90\n",
       "29478       S80\n",
       "29479       NaN\n",
       "Name: Model, Length: 29480, dtype: object"
      ]
     },
     "execution_count": 10,
     "metadata": {},
     "output_type": "execute_result"
    }
   ],
   "source": [
    "df['Model'] = df['Model'].apply(lambda item: re.sub(r'[\\n, ]', '', item) if type(item) == str else item)\n",
    "df['Model']"
   ]
  },
  {
   "cell_type": "markdown",
   "metadata": {},
   "source": [
    "** <b>Column name of 'Location'<b>\n",
    "* I filled that column with just the country codes and null values"
   ]
  },
  {
   "cell_type": "code",
   "execution_count": 11,
   "metadata": {},
   "outputs": [
    {
     "data": {
      "text/plain": [
       "0        P.I. EL PALMAR C/FORJA 6,  11500 PUERTO DE SAN...\n",
       "1             APARTADO DE CORREOS 1032,  26140 LOGROÑO, ES\n",
       "2        PORT. TARRACO, MOLL DE LLEVANT, Nº 5, LOC. 6-8...\n",
       "3        Carrer de Provença, 31 Local,  8029 BARCELONA, ES\n",
       "4                   CARRIL ARAGONES 4,  30007 CASILLAS, ES\n",
       "                               ...                        \n",
       "29475                    Stobbeweg 6,  2461 EX TER AAR, NL\n",
       "29476               Sur rendez-vous,  5060 Sambreville, BE\n",
       "29477      Bergambachterstraat 5,  2871 JB SCHOONHOVEN, NL\n",
       "29478                    Lage Ham 106,  5102 AE DONGEN, NL\n",
       "29479                                                  NaN\n",
       "Name: Location, Length: 29480, dtype: object"
      ]
     },
     "execution_count": 11,
     "metadata": {},
     "output_type": "execute_result"
    }
   ],
   "source": [
    "df['Location']"
   ]
  },
  {
   "cell_type": "code",
   "execution_count": 12,
   "metadata": {},
   "outputs": [
    {
     "data": {
      "text/plain": [
       "0         ES\n",
       "1         ES\n",
       "2         ES\n",
       "3         ES\n",
       "4         ES\n",
       "        ... \n",
       "29475     NL\n",
       "29476     BE\n",
       "29477     NL\n",
       "29478     NL\n",
       "29479    NaN\n",
       "Name: Location, Length: 29480, dtype: object"
      ]
     },
     "execution_count": 12,
     "metadata": {},
     "output_type": "execute_result"
    }
   ],
   "source": [
    "for column in df:\n",
    "    df['Location'] = df['Location'].str.extract(r'(\\b\\w{2}$)').fillna(np.nan)\n",
    "    \n",
    "df['Location']"
   ]
  },
  {
   "cell_type": "markdown",
   "metadata": {},
   "source": [
    "** <b>Column name of 'Price'<b>"
   ]
  },
  {
   "cell_type": "markdown",
   "metadata": {},
   "source": [
    "* I dropped sign of '$ , . - and spaces' than changed the type to float"
   ]
  },
  {
   "cell_type": "code",
   "execution_count": 13,
   "metadata": {},
   "outputs": [
    {
     "data": {
      "text/plain": [
       "0        € 16,950.-\n",
       "1        € 80,900.-\n",
       "2        € 69,900.-\n",
       "3        € 46,990.-\n",
       "4        € 16,800.-\n",
       "            ...    \n",
       "29475     € 5,499.-\n",
       "29476     € 7,300.-\n",
       "29477    € 29,900.-\n",
       "29478     € 4,440.-\n",
       "29479           NaN\n",
       "Name: Price, Length: 29480, dtype: object"
      ]
     },
     "execution_count": 13,
     "metadata": {},
     "output_type": "execute_result"
    }
   ],
   "source": [
    "df['Price']"
   ]
  },
  {
   "cell_type": "code",
   "execution_count": 14,
   "metadata": {},
   "outputs": [
    {
     "data": {
      "text/plain": [
       "0        16950.0\n",
       "1        80900.0\n",
       "2        69900.0\n",
       "3        46990.0\n",
       "4        16800.0\n",
       "          ...   \n",
       "29475     5499.0\n",
       "29476     7300.0\n",
       "29477    29900.0\n",
       "29478     4440.0\n",
       "29479        NaN\n",
       "Name: Price, Length: 29480, dtype: float64"
      ]
     },
     "execution_count": 14,
     "metadata": {},
     "output_type": "execute_result"
    }
   ],
   "source": [
    "df['Price'] = df['Price'].str.extract(r'(\\d+\\,?\\d*)')\n",
    "df['Price'] = df['Price'].str.replace(',',\"\").astype(float)\n",
    "df['Price']"
   ]
  },
  {
   "cell_type": "markdown",
   "metadata": {},
   "source": [
    "** <b> Column name of 'Body_Type'<b>"
   ]
  },
  {
   "cell_type": "code",
   "execution_count": 15,
   "metadata": {},
   "outputs": [
    {
     "data": {
      "text/plain": [
       "0        \\n, Compact, \\n\n",
       "1        \\n, Compact, \\n\n",
       "2        \\n, Compact, \\n\n",
       "3        \\n, Compact, \\n\n",
       "4        \\n, Compact, \\n\n",
       "              ...       \n",
       "29475      \\n, Sedan, \\n\n",
       "29476      \\n, Sedan, \\n\n",
       "29477      \\n, Sedan, \\n\n",
       "29478      \\n, Sedan, \\n\n",
       "29479                NaN\n",
       "Name: Body_Type, Length: 29480, dtype: object"
      ]
     },
     "execution_count": 15,
     "metadata": {},
     "output_type": "execute_result"
    }
   ],
   "source": [
    "df['Body_Type'] = df['Body_Type'].apply(lambda item: \",\".join(item) if type(item) == list else item)\n",
    "df['Body_Type'] "
   ]
  },
  {
   "cell_type": "code",
   "execution_count": 16,
   "metadata": {},
   "outputs": [
    {
     "data": {
      "text/plain": [
       "0         Compact \n",
       "1         Compact \n",
       "2         Compact \n",
       "3         Compact \n",
       "4         Compact \n",
       "           ...    \n",
       "29475       Sedan \n",
       "29476       Sedan \n",
       "29477       Sedan \n",
       "29478       Sedan \n",
       "29479          NaN\n",
       "Name: Body_Type, Length: 29480, dtype: object"
      ]
     },
     "execution_count": 16,
     "metadata": {},
     "output_type": "execute_result"
    }
   ],
   "source": [
    "df['Body_Type'] = df['Body_Type'].apply(lambda item: re.sub(r'[\\n,]', '', item) if type(item) == str else item)\n",
    "df['Body_Type']"
   ]
  },
  {
   "cell_type": "markdown",
   "metadata": {},
   "source": [
    "** <b> Column name of 'Type'<b>"
   ]
  },
  {
   "cell_type": "code",
   "execution_count": 17,
   "metadata": {},
   "outputs": [
    {
     "data": {
      "text/plain": [
       "0                  [\\n, Used, \\n]\n",
       "1        [\\n, Pre-registered, \\n]\n",
       "2                  [\\n, Used, \\n]\n",
       "3                  [\\n, Used, \\n]\n",
       "4                  [\\n, Used, \\n]\n",
       "                   ...           \n",
       "29475              [\\n, Used, \\n]\n",
       "29476              [\\n, Used, \\n]\n",
       "29477              [\\n, Used, \\n]\n",
       "29478              [\\n, Used, \\n]\n",
       "29479                         NaN\n",
       "Name: Type, Length: 29480, dtype: object"
      ]
     },
     "execution_count": 17,
     "metadata": {},
     "output_type": "execute_result"
    }
   ],
   "source": [
    "df['Type'] "
   ]
  },
  {
   "cell_type": "code",
   "execution_count": 18,
   "metadata": {},
   "outputs": [
    {
     "data": {
      "text/plain": [
       "0                  \\n, Used, \\n\n",
       "1        \\n, Pre-registered, \\n\n",
       "2                  \\n, Used, \\n\n",
       "3                  \\n, Used, \\n\n",
       "4                  \\n, Used, \\n\n",
       "                  ...          \n",
       "29475              \\n, Used, \\n\n",
       "29476              \\n, Used, \\n\n",
       "29477              \\n, Used, \\n\n",
       "29478              \\n, Used, \\n\n",
       "29479                       NaN\n",
       "Name: Type, Length: 29480, dtype: object"
      ]
     },
     "execution_count": 18,
     "metadata": {},
     "output_type": "execute_result"
    }
   ],
   "source": [
    "df['Type'] = df['Type'].apply(lambda item: \",\".join(item) if type(item) == list else item)\n",
    "df['Type']"
   ]
  },
  {
   "cell_type": "code",
   "execution_count": 19,
   "metadata": {},
   "outputs": [
    {
     "data": {
      "text/plain": [
       "0                   Used \n",
       "1         Pre-registered \n",
       "2                   Used \n",
       "3                   Used \n",
       "4                   Used \n",
       "               ...       \n",
       "29475               Used \n",
       "29476               Used \n",
       "29477               Used \n",
       "29478               Used \n",
       "29479                 NaN\n",
       "Name: Type, Length: 29480, dtype: object"
      ]
     },
     "execution_count": 19,
     "metadata": {},
     "output_type": "execute_result"
    }
   ],
   "source": [
    "df['Type'] = df['Type'].apply(lambda item: re.sub(r'[\\n,]', '', item) if type(item) == str else item)\n",
    "df['Type']"
   ]
  },
  {
   "cell_type": "markdown",
   "metadata": {},
   "source": [
    "** <b> Column name of 'Doors'<b>"
   ]
  },
  {
   "cell_type": "code",
   "execution_count": 20,
   "metadata": {},
   "outputs": [
    {
     "data": {
      "text/plain": [
       "0        [\\n, 5, \\n]\n",
       "1        [\\n, 4, \\n]\n",
       "2        [\\n, 5, \\n]\n",
       "3        [\\n, 5, \\n]\n",
       "4        [\\n, 5, \\n]\n",
       "            ...     \n",
       "29475    [\\n, 4, \\n]\n",
       "29476    [\\n, 3, \\n]\n",
       "29477    [\\n, 4, \\n]\n",
       "29478    [\\n, 4, \\n]\n",
       "29479            NaN\n",
       "Name: Doors, Length: 29480, dtype: object"
      ]
     },
     "execution_count": 20,
     "metadata": {},
     "output_type": "execute_result"
    }
   ],
   "source": [
    "df['Doors']"
   ]
  },
  {
   "cell_type": "code",
   "execution_count": 21,
   "metadata": {},
   "outputs": [
    {
     "data": {
      "text/plain": [
       "0        \\n, 5, \\n\n",
       "1        \\n, 4, \\n\n",
       "2        \\n, 5, \\n\n",
       "3        \\n, 5, \\n\n",
       "4        \\n, 5, \\n\n",
       "           ...    \n",
       "29475    \\n, 4, \\n\n",
       "29476    \\n, 3, \\n\n",
       "29477    \\n, 4, \\n\n",
       "29478    \\n, 4, \\n\n",
       "29479          NaN\n",
       "Name: Doors, Length: 29480, dtype: object"
      ]
     },
     "execution_count": 21,
     "metadata": {},
     "output_type": "execute_result"
    }
   ],
   "source": [
    "df['Doors'] = df['Doors'].apply(lambda item: \",\".join(item) if type(item) == list else item)\n",
    "df['Doors']"
   ]
  },
  {
   "cell_type": "code",
   "execution_count": 22,
   "metadata": {},
   "outputs": [
    {
     "data": {
      "text/plain": [
       "0         5 \n",
       "1         4 \n",
       "2         5 \n",
       "3         5 \n",
       "4         5 \n",
       "        ... \n",
       "29475     4 \n",
       "29476     3 \n",
       "29477     4 \n",
       "29478     4 \n",
       "29479    NaN\n",
       "Name: Doors, Length: 29480, dtype: object"
      ]
     },
     "execution_count": 22,
     "metadata": {},
     "output_type": "execute_result"
    }
   ],
   "source": [
    "df['Doors'] = df['Doors'].apply(lambda item: re.sub(r'[\\n,]', '', item) if type(item) == str else item)\n",
    "df['Doors']"
   ]
  },
  {
   "cell_type": "markdown",
   "metadata": {},
   "source": [
    "** <b>Column name of 'Country_Version'<b>"
   ]
  },
  {
   "cell_type": "code",
   "execution_count": 23,
   "metadata": {},
   "outputs": [
    {
     "data": {
      "text/plain": [
       "0          [\\n, Spain, \\n]\n",
       "1          [\\n, Spain, \\n]\n",
       "2          [\\n, Spain, \\n]\n",
       "3          [\\n, Spain, \\n]\n",
       "4          [\\n, Spain, \\n]\n",
       "               ...        \n",
       "29475                  NaN\n",
       "29476    [\\n, Belgium, \\n]\n",
       "29477                  NaN\n",
       "29478                  NaN\n",
       "29479                  NaN\n",
       "Name: Country_Version, Length: 29480, dtype: object"
      ]
     },
     "execution_count": 23,
     "metadata": {},
     "output_type": "execute_result"
    }
   ],
   "source": [
    "df['Country_Version']"
   ]
  },
  {
   "cell_type": "code",
   "execution_count": 24,
   "metadata": {
    "scrolled": true
   },
   "outputs": [
    {
     "data": {
      "text/plain": [
       "0          \\n, Spain, \\n\n",
       "1          \\n, Spain, \\n\n",
       "2          \\n, Spain, \\n\n",
       "3          \\n, Spain, \\n\n",
       "4          \\n, Spain, \\n\n",
       "              ...       \n",
       "29475                NaN\n",
       "29476    \\n, Belgium, \\n\n",
       "29477                NaN\n",
       "29478                NaN\n",
       "29479                NaN\n",
       "Name: Country_Version, Length: 29480, dtype: object"
      ]
     },
     "execution_count": 24,
     "metadata": {},
     "output_type": "execute_result"
    }
   ],
   "source": [
    "df['Country_Version']=df['Country_Version'].apply(lambda item: \",\".join(item) if type(item) == list else item)\n",
    "df['Country_Version']"
   ]
  },
  {
   "cell_type": "code",
   "execution_count": 25,
   "metadata": {},
   "outputs": [
    {
     "data": {
      "text/plain": [
       "0           Spain \n",
       "1           Spain \n",
       "2           Spain \n",
       "3           Spain \n",
       "4           Spain \n",
       "           ...    \n",
       "29475          NaN\n",
       "29476     Belgium \n",
       "29477          NaN\n",
       "29478          NaN\n",
       "29479          NaN\n",
       "Name: Country_Version, Length: 29480, dtype: object"
      ]
     },
     "execution_count": 25,
     "metadata": {},
     "output_type": "execute_result"
    }
   ],
   "source": [
    "df['Country_Version'] = df['Country_Version'].apply(lambda item: re.sub(r'[\\n,]', '', item) if type(item) == str else item)\n",
    "df['Country_Version']"
   ]
  },
  {
   "cell_type": "markdown",
   "metadata": {},
   "source": [
    "** <b>Column name of 'Offer_Number'<b>"
   ]
  },
  {
   "cell_type": "code",
   "execution_count": 26,
   "metadata": {},
   "outputs": [
    {
     "data": {
      "text/plain": [
       "0         [\\n, 7468157, \\n]\n",
       "1         [\\n, 7054863, \\n]\n",
       "2         [\\n, 7410454, \\n]\n",
       "3         [\\n, 7464503, \\n]\n",
       "4         [\\n, 7127931, \\n]\n",
       "                ...        \n",
       "29475    [\\n, 09-PF-XS, \\n]\n",
       "29476                   NaN\n",
       "29477        [\\n, 2791, \\n]\n",
       "29478    [\\n, 43-JR-LR, \\n]\n",
       "29479                   NaN\n",
       "Name: Offer_Number, Length: 29480, dtype: object"
      ]
     },
     "execution_count": 26,
     "metadata": {},
     "output_type": "execute_result"
    }
   ],
   "source": [
    "df['Offer_Number']"
   ]
  },
  {
   "cell_type": "code",
   "execution_count": 27,
   "metadata": {},
   "outputs": [
    {
     "data": {
      "text/plain": [
       "0         \\n, 7468157, \\n\n",
       "1         \\n, 7054863, \\n\n",
       "2         \\n, 7410454, \\n\n",
       "3         \\n, 7464503, \\n\n",
       "4         \\n, 7127931, \\n\n",
       "               ...       \n",
       "29475    \\n, 09-PF-XS, \\n\n",
       "29476                 NaN\n",
       "29477        \\n, 2791, \\n\n",
       "29478    \\n, 43-JR-LR, \\n\n",
       "29479                 NaN\n",
       "Name: Offer_Number, Length: 29480, dtype: object"
      ]
     },
     "execution_count": 27,
     "metadata": {},
     "output_type": "execute_result"
    }
   ],
   "source": [
    "df['Offer_Number']=df['Offer_Number'].apply(lambda item: \",\".join(item) if type(item) == list else item)\n",
    "df['Offer_Number']"
   ]
  },
  {
   "cell_type": "code",
   "execution_count": 28,
   "metadata": {},
   "outputs": [
    {
     "data": {
      "text/plain": [
       "0          7468157 \n",
       "1          7054863 \n",
       "2          7410454 \n",
       "3          7464503 \n",
       "4          7127931 \n",
       "            ...    \n",
       "29475     09-PF-XS \n",
       "29476           NaN\n",
       "29477         2791 \n",
       "29478     43-JR-LR \n",
       "29479           NaN\n",
       "Name: Offer_Number, Length: 29480, dtype: object"
      ]
     },
     "execution_count": 28,
     "metadata": {},
     "output_type": "execute_result"
    }
   ],
   "source": [
    "df['Offer_Number'] = df['Offer_Number'].apply(lambda item: re.sub(r'[\\n,]', '', item) if type(item) == str else item)\n",
    "df['Offer_Number']"
   ]
  },
  {
   "cell_type": "code",
   "execution_count": 29,
   "metadata": {},
   "outputs": [
    {
     "data": {
      "text/plain": [
       "False"
      ]
     },
     "execution_count": 29,
     "metadata": {},
     "output_type": "execute_result"
    }
   ],
   "source": [
    "df['Offer_Number'].is_unique"
   ]
  },
  {
   "cell_type": "code",
   "execution_count": 30,
   "metadata": {},
   "outputs": [
    {
     "data": {
      "text/plain": [
       " 1                         28\n",
       " L-Vorlauf 2023            10\n",
       " 20                         9\n",
       " 30                         9\n",
       " RE82542                    8\n",
       "                           ..\n",
       " ggp-EP-880-ZS              1\n",
       " 7475319                    1\n",
       " abci-EZ-260-PS_130291      1\n",
       " 7407611                    1\n",
       " 43-JR-LR                   1\n",
       "Name: Offer_Number, Length: 20945, dtype: int64"
      ]
     },
     "execution_count": 30,
     "metadata": {},
     "output_type": "execute_result"
    }
   ],
   "source": [
    "df['Offer_Number'].value_counts()"
   ]
  },
  {
   "cell_type": "markdown",
   "metadata": {},
   "source": [
    "** <b>Column name of 'Warranty'<b>"
   ]
  },
  {
   "cell_type": "code",
   "execution_count": 31,
   "metadata": {},
   "outputs": [
    {
     "data": {
      "text/plain": [
       "0        [\\n, 24 months, \\n]\n",
       "1        [\\n, 24 months, \\n]\n",
       "2        [\\n, 12 months, \\n]\n",
       "3        [\\n, 12 months, \\n]\n",
       "4        [\\n, 12 months, \\n]\n",
       "                ...         \n",
       "29475                    NaN\n",
       "29476    [\\n, 13 months, \\n]\n",
       "29477    [\\n, 12 months, \\n]\n",
       "29478                    NaN\n",
       "29479                    NaN\n",
       "Name: Warranty, Length: 29480, dtype: object"
      ]
     },
     "execution_count": 31,
     "metadata": {},
     "output_type": "execute_result"
    }
   ],
   "source": [
    "df['Warranty']"
   ]
  },
  {
   "cell_type": "code",
   "execution_count": 32,
   "metadata": {},
   "outputs": [
    {
     "data": {
      "text/plain": [
       "0        \\n, 24 months, \\n\n",
       "1        \\n, 24 months, \\n\n",
       "2        \\n, 12 months, \\n\n",
       "3        \\n, 12 months, \\n\n",
       "4        \\n, 12 months, \\n\n",
       "               ...        \n",
       "29475                  NaN\n",
       "29476    \\n, 13 months, \\n\n",
       "29477    \\n, 12 months, \\n\n",
       "29478                  NaN\n",
       "29479                  NaN\n",
       "Name: Warranty, Length: 29480, dtype: object"
      ]
     },
     "execution_count": 32,
     "metadata": {},
     "output_type": "execute_result"
    }
   ],
   "source": [
    "df['Warranty']=df['Warranty'].apply(lambda item: \",\".join(item) if type(item) == list else item)\n",
    "df['Warranty']"
   ]
  },
  {
   "cell_type": "code",
   "execution_count": 33,
   "metadata": {
    "scrolled": true
   },
   "outputs": [
    {
     "data": {
      "text/plain": [
       "0         24 months \n",
       "1         24 months \n",
       "2         12 months \n",
       "3         12 months \n",
       "4         12 months \n",
       "            ...     \n",
       "29475            NaN\n",
       "29476     13 months \n",
       "29477     12 months \n",
       "29478            NaN\n",
       "29479            NaN\n",
       "Name: Warranty, Length: 29480, dtype: object"
      ]
     },
     "execution_count": 33,
     "metadata": {},
     "output_type": "execute_result"
    }
   ],
   "source": [
    "df['Warranty']=df['Warranty'].apply(lambda item: re.sub(r'[\\n,]', '', item) if type(item) == str else item)\n",
    "df['Warranty']"
   ]
  },
  {
   "cell_type": "code",
   "execution_count": 34,
   "metadata": {},
   "outputs": [
    {
     "data": {
      "text/plain": [
       "0         24\n",
       "1         24\n",
       "2         12\n",
       "3         12\n",
       "4         12\n",
       "        ... \n",
       "29475    NaN\n",
       "29476     13\n",
       "29477     12\n",
       "29478    NaN\n",
       "29479    NaN\n",
       "Name: Warranty, Length: 29480, dtype: object"
      ]
     },
     "execution_count": 34,
     "metadata": {},
     "output_type": "execute_result"
    }
   ],
   "source": [
    "df['Warranty'] = df['Warranty'].apply(lambda item: re.sub(r'[ \\n, a-zA-Z ]','', item) if type(item) == str else item)\n",
    "df['Warranty']"
   ]
  },
  {
   "cell_type": "code",
   "execution_count": 35,
   "metadata": {},
   "outputs": [],
   "source": [
    "#df1['Warranty']=df1['Warranty'].str.extract(r'(\\d+\\,?\\d*)')\n",
    "#df1['Warranty']=df1['Warranty'].str.replace(',',\"\").astype(float)\n",
    "#df1['Warranty']\n",
    "\n",
    "#For the time being \"Warranty''s type is object if we want to make it float, here is the code!!!!!!!!!!!!"
   ]
  },
  {
   "cell_type": "markdown",
   "metadata": {},
   "source": [
    "** <b>Column name of 'Mileage'<b>"
   ]
  },
  {
   "cell_type": "code",
   "execution_count": 36,
   "metadata": {},
   "outputs": [
    {
     "data": {
      "text/plain": [
       "0        120,200 km\n",
       "1          5,000 km\n",
       "2         18,900 km\n",
       "3         18,995 km\n",
       "4        197,000 km\n",
       "            ...    \n",
       "29475    145,000 km\n",
       "29476     96,000 km\n",
       "29477     94,343 km\n",
       "29478    230,047 km\n",
       "29479           NaN\n",
       "Name: Mileage, Length: 29480, dtype: object"
      ]
     },
     "execution_count": 36,
     "metadata": {},
     "output_type": "execute_result"
    }
   ],
   "source": [
    "df['Mileage']"
   ]
  },
  {
   "cell_type": "code",
   "execution_count": 37,
   "metadata": {},
   "outputs": [
    {
     "data": {
      "text/plain": [
       "0        120,200\n",
       "1          5,000\n",
       "2         18,900\n",
       "3         18,995\n",
       "4        197,000\n",
       "          ...   \n",
       "29475    145,000\n",
       "29476     96,000\n",
       "29477     94,343\n",
       "29478    230,047\n",
       "29479        NaN\n",
       "Name: Mileage, Length: 29480, dtype: object"
      ]
     },
     "execution_count": 37,
     "metadata": {},
     "output_type": "execute_result"
    }
   ],
   "source": [
    "df['Mileage']=df['Mileage'].str.extract(r'(\\d+\\,?\\d*)')\n",
    "df['Mileage']"
   ]
  },
  {
   "cell_type": "code",
   "execution_count": 38,
   "metadata": {
    "scrolled": true
   },
   "outputs": [
    {
     "data": {
      "text/plain": [
       "0        120200.0\n",
       "1          5000.0\n",
       "2         18900.0\n",
       "3         18995.0\n",
       "4        197000.0\n",
       "           ...   \n",
       "29475    145000.0\n",
       "29476     96000.0\n",
       "29477     94343.0\n",
       "29478    230047.0\n",
       "29479         NaN\n",
       "Name: Mileage, Length: 29480, dtype: float64"
      ]
     },
     "execution_count": 38,
     "metadata": {},
     "output_type": "execute_result"
    }
   ],
   "source": [
    "df['Mileage']=df['Mileage'].str.replace(',',\"\").astype(float)\n",
    "df['Mileage']"
   ]
  },
  {
   "cell_type": "markdown",
   "metadata": {},
   "source": [
    "** <b>Column name of 'First_Regeistration'<b>"
   ]
  },
  {
   "cell_type": "code",
   "execution_count": 39,
   "metadata": {},
   "outputs": [
    {
     "data": {
      "text/plain": [
       "0        06/2016\n",
       "1        06/2022\n",
       "2        07/2020\n",
       "3        01/2020\n",
       "4        09/2015\n",
       "          ...   \n",
       "29475    06/2004\n",
       "29476    04/2011\n",
       "29477    11/2017\n",
       "29478    07/2002\n",
       "29479        NaN\n",
       "Name: First_Registration, Length: 29480, dtype: object"
      ]
     },
     "execution_count": 39,
     "metadata": {},
     "output_type": "execute_result"
    }
   ],
   "source": [
    "df['First_Registration']"
   ]
  },
  {
   "cell_type": "code",
   "execution_count": 40,
   "metadata": {},
   "outputs": [
    {
     "data": {
      "text/plain": [
       "0       2016-06-01\n",
       "1       2022-06-01\n",
       "2       2020-07-01\n",
       "3       2020-01-01\n",
       "4       2015-09-01\n",
       "           ...    \n",
       "29475   2004-06-01\n",
       "29476   2011-04-01\n",
       "29477   2017-11-01\n",
       "29478   2002-07-01\n",
       "29479          NaT\n",
       "Name: First_Registration, Length: 29480, dtype: datetime64[ns]"
      ]
     },
     "execution_count": 40,
     "metadata": {},
     "output_type": "execute_result"
    }
   ],
   "source": [
    "df['First_Registration'] = pd.to_datetime(df['First_Registration'], format='%m/%Y')\n",
    "df['First_Registration']"
   ]
  },
  {
   "cell_type": "markdown",
   "metadata": {},
   "source": [
    "** <b>Column name of 'Gearbox'<b>"
   ]
  },
  {
   "cell_type": "code",
   "execution_count": 41,
   "metadata": {},
   "outputs": [
    {
     "data": {
      "text/plain": [
       "0           [\\nManual\\n]\n",
       "1        [\\nAutomatic\\n]\n",
       "2        [\\nAutomatic\\n]\n",
       "3        [\\nAutomatic\\n]\n",
       "4        [\\nAutomatic\\n]\n",
       "              ...       \n",
       "29475    [\\nAutomatic\\n]\n",
       "29476       [\\nManual\\n]\n",
       "29477    [\\nAutomatic\\n]\n",
       "29478    [\\nAutomatic\\n]\n",
       "29479                NaN\n",
       "Name: Gearbox, Length: 29480, dtype: object"
      ]
     },
     "execution_count": 41,
     "metadata": {},
     "output_type": "execute_result"
    }
   ],
   "source": [
    "df['Gearbox']"
   ]
  },
  {
   "cell_type": "code",
   "execution_count": 42,
   "metadata": {},
   "outputs": [
    {
     "data": {
      "text/plain": [
       "0           \\nManual\\n\n",
       "1        \\nAutomatic\\n\n",
       "2        \\nAutomatic\\n\n",
       "3        \\nAutomatic\\n\n",
       "4        \\nAutomatic\\n\n",
       "             ...      \n",
       "29475    \\nAutomatic\\n\n",
       "29476       \\nManual\\n\n",
       "29477    \\nAutomatic\\n\n",
       "29478    \\nAutomatic\\n\n",
       "29479              NaN\n",
       "Name: Gearbox, Length: 29480, dtype: object"
      ]
     },
     "execution_count": 42,
     "metadata": {},
     "output_type": "execute_result"
    }
   ],
   "source": [
    "df['Gearbox'] = df['Gearbox'].apply(lambda item: \",\".join(item) if type(item) == list else item)\n",
    "df['Gearbox']"
   ]
  },
  {
   "cell_type": "code",
   "execution_count": 43,
   "metadata": {},
   "outputs": [
    {
     "data": {
      "text/plain": [
       "0           Manual\n",
       "1        Automatic\n",
       "2        Automatic\n",
       "3        Automatic\n",
       "4        Automatic\n",
       "           ...    \n",
       "29475    Automatic\n",
       "29476       Manual\n",
       "29477    Automatic\n",
       "29478    Automatic\n",
       "29479          NaN\n",
       "Name: Gearbox, Length: 29480, dtype: object"
      ]
     },
     "execution_count": 43,
     "metadata": {},
     "output_type": "execute_result"
    }
   ],
   "source": [
    "df['Gearbox'] = df['Gearbox'].apply(lambda item: re.sub(r'[\\n,]', '', item) if type(item) == str else item)\n",
    "df['Gearbox']"
   ]
  },
  {
   "cell_type": "markdown",
   "metadata": {},
   "source": [
    "** <b>Column name of 'Fuel_Type'<b>"
   ]
  },
  {
   "cell_type": "code",
   "execution_count": 44,
   "metadata": {},
   "outputs": [
    {
     "data": {
      "text/plain": [
       "Gasoline                                                                                              8532\n",
       "Diesel                                                                                                5911\n",
       "Super 95                                                                                              3557\n",
       "Diesel (Particle filter)                                                                              2816\n",
       "NaN                                                                                                   2637\n",
       "Regular/Benzine 91                                                                                    2065\n",
       "Super E10 95                                                                                          1016\n",
       "Regular/Benzine 91 (Particle filter)                                                                   555\n",
       "Super 95 (Particle filter)                                                                             537\n",
       "Super E10 95 (Particle filter)                                                                         324\n",
       "Regular/Benzine E10 91                                                                                 278\n",
       "Others                                                                                                 197\n",
       "Gasoline (Particle filter)                                                                             196\n",
       "Electric                                                                                               185\n",
       "Super Plus 98                                                                                          170\n",
       "Liquid petroleum gas (LPG)                                                                             148\n",
       "CNG                                                                                                     87\n",
       "LPG                                                                                                     73\n",
       "Super Plus E10 98                                                                                       42\n",
       "Super Plus E10 98 (Particle filter)                                                                     35\n",
       "Domestic gas H                                                                                          24\n",
       "Others (Particle filter)                                                                                16\n",
       "Super Plus 98 (Particle filter)                                                                         15\n",
       "Domestic gas L                                                                                          10\n",
       "CNG (Particle filter)                                                                                    8\n",
       "Regular/Benzine E10 91 (Particle filter)                                                                 8\n",
       "LPG (Particle filter)                                                                                    4\n",
       "Hydrogen                                                                                                 3\n",
       "Ethanol                                                                                                  3\n",
       "Electric (Particle filter)                                                                               3\n",
       "Liquid petroleum gas (LPG) (Particle filter) / Super 95 / Super E10 95                                   3\n",
       "Liquid petroleum gas (LPG) / Super 95 / Super Plus 98 / Super Plus E10 98 / Super E10 95                 2\n",
       "Liquid petroleum gas (LPG) / Super 95 / Super E10 95                                                     2\n",
       "Domestic gas L (Particle filter)                                                                         2\n",
       "Liquid petroleum gas (LPG) (Particle filter)                                                             2\n",
       "Liquid petroleum gas (LPG) / Super 95                                                                    2\n",
       "Liquid petroleum gas (LPG) / Super 95 / Super E10 95 / Super Plus 98                                     2\n",
       "Liquid petroleum gas (LPG) / Super 95 / Super Plus 98                                                    1\n",
       "Super 95 (Particle filter) / Super E10 95 / Ethanol                                                      1\n",
       "Liquid petroleum gas (LPG) / Super E10 95 / Super Plus E10 98 / Super Plus 98 / Super 95                 1\n",
       "Liquid petroleum gas (LPG) / Super E10 95                                                                1\n",
       "Biogas                                                                                                   1\n",
       "Super 95 / Super Plus 98 / Liquid petroleum gas (LPG)                                                    1\n",
       "Domestic gas L / Super 95 / Domestic gas H                                                               1\n",
       "Domestic gas H / Super E10 95 / Super Plus E10 98 / Super 95 / Super Plus 98 / Domestic gas L            1\n",
       "Liquid petroleum gas (LPG) / Super E10 95 / Regular/Benzine 91 / Super 95 / Super Plus 98 / Biogas       1\n",
       "Super 95 / Liquid petroleum gas (LPG)                                                                    1\n",
       "Name: Fuel_Type, dtype: int64"
      ]
     },
     "execution_count": 44,
     "metadata": {},
     "output_type": "execute_result"
    }
   ],
   "source": [
    "df1['Fuel_Type'].value_counts(dropna=False)"
   ]
  },
  {
   "cell_type": "code",
   "execution_count": 45,
   "metadata": {},
   "outputs": [],
   "source": [
    "fuel_types = (['Diesel', 'Electric', 'Gasoline', 'Regular/Benzine 91',\n",
    "       'Regular/Benzine 91 (Particle filter)', 'Super 95', 'Super E10 95',\n",
    "       'LPG', 'Diesel (Particle filter)', 'Gasoline (Particle filter)',\n",
    "       'Super 95 (Particle filter)', 'Liquid petroleum gas (LPG)',\n",
    "       'Super Plus 98', 'Super E10 95 (Particle filter)',\n",
    "       'Regular/Benzine E10 91', 'Super Plus E10 98',\n",
    "       'Super Plus E10 98 (Particle filter)', 'Others',\n",
    "       'Super Plus 98 (Particle filter)',\n",
    "       'Liquid petroleum gas (LPG) / Super E10 95 / Regular/Benzine 91 / Super 95 / Super Plus 98 / Biogas',\n",
    "       'Ethanol', 'Regular/Benzine E10 91 (Particle filter)', 'CNG',\n",
    "       'Liquid petroleum gas (LPG) (Particle filter) / Super 95 / Super E10 95',\n",
    "       'Others (Particle filter)',\n",
    "       'Liquid petroleum gas (LPG) / Super 95 / Super E10 95',\n",
    "       'LPG (Particle filter)', 'Electric (Particle filter)',\n",
    "       'Domestic gas L',\n",
    "       'Liquid petroleum gas (LPG) / Super 95 / Super Plus 98 / Super Plus E10 98 / Super E10 95',\n",
    "       'CNG (Particle filter)', 'Domestic gas H',\n",
    "       'Domestic gas L (Particle filter)', 'Biogas',\n",
    "       'Domestic gas H / Super E10 95 / Super Plus E10 98 / Super 95 / Super Plus 98 / Domestic gas L',\n",
    "       'Domestic gas L / Super 95 / Domestic gas H',\n",
    "       'Super 95 / Super Plus 98 / Liquid petroleum gas (LPG)',\n",
    "       'Liquid petroleum gas (LPG) (Particle filter)',\n",
    "       'Liquid petroleum gas (LPG) / Super 95',\n",
    "       'Liquid petroleum gas (LPG) / Super 95 / Super E10 95 / Super Plus 98',\n",
    "       'Liquid petroleum gas (LPG) / Super 95 / Super Plus 98',\n",
    "       'Liquid petroleum gas (LPG) / Super E10 95',\n",
    "       'Liquid petroleum gas (LPG) / Super E10 95 / Super Plus E10 98 / Super Plus 98 / Super 95',\n",
    "       'Hydrogen', 'Super 95 (Particle filter) / Super E10 95 / Ethanol',\n",
    "       'Super 95 / Liquid petroleum gas (LPG)'])\n",
    "\n"
   ]
  },
  {
   "cell_type": "code",
   "execution_count": 46,
   "metadata": {},
   "outputs": [],
   "source": [
    "def categorize_fuel_type(fuel_type):\n",
    "    if isinstance(fuel_type, str):\n",
    "        if re.search(r'LPG|Domestic|Hydrogen|Super', fuel_type):\n",
    "            return 'LPG'\n",
    "        elif re.search(r'Regular|Benzine|Super|Gasoline|Cng|Ethanol', fuel_type):\n",
    "            return 'Gasoline'\n",
    "        elif re.search(r'Diesel', fuel_type):\n",
    "            return 'Diesel'\n",
    "        elif re.search(r'Electric', fuel_type):\n",
    "            return 'Electric'\n",
    "        elif re.search(r'Others', fuel_type):\n",
    "            return 'Others'\n",
    "        else:\n",
    "            return np.nan\n",
    "    return fuel_type"
   ]
  },
  {
   "cell_type": "code",
   "execution_count": 47,
   "metadata": {},
   "outputs": [
    {
     "data": {
      "text/plain": [
       "0          Diesel\n",
       "1        Electric\n",
       "2        Gasoline\n",
       "3        Gasoline\n",
       "4          Diesel\n",
       "           ...   \n",
       "29475    Gasoline\n",
       "29476      Diesel\n",
       "29477    Gasoline\n",
       "29478         LPG\n",
       "29479         NaN\n",
       "Name: Fuel_Type, Length: 29480, dtype: object"
      ]
     },
     "execution_count": 47,
     "metadata": {},
     "output_type": "execute_result"
    }
   ],
   "source": [
    "df['Fuel_Type'] = df['Fuel_Type'].apply(lambda x: categorize_fuel_type(str(x)))\n",
    "df['Fuel_Type']"
   ]
  },
  {
   "cell_type": "code",
   "execution_count": 48,
   "metadata": {},
   "outputs": [
    {
     "data": {
      "text/plain": [
       "array(['Diesel', 'Electric', 'Gasoline', nan, 'LPG', 'Others'],\n",
       "      dtype=object)"
      ]
     },
     "execution_count": 48,
     "metadata": {},
     "output_type": "execute_result"
    }
   ],
   "source": [
    "df['Fuel_Type'].unique()"
   ]
  },
  {
   "cell_type": "markdown",
   "metadata": {},
   "source": [
    "** <b>Column name of 'Colour'<b>"
   ]
  },
  {
   "cell_type": "code",
   "execution_count": 49,
   "metadata": {},
   "outputs": [
    {
     "data": {
      "text/plain": [
       "0         Black\n",
       "1           NaN\n",
       "2          Grey\n",
       "3        Yellow\n",
       "4         White\n",
       "          ...  \n",
       "29475      Grey\n",
       "29476      Grey\n",
       "29477      Blue\n",
       "29478      Grey\n",
       "29479       NaN\n",
       "Name: Colour, Length: 29480, dtype: object"
      ]
     },
     "execution_count": 49,
     "metadata": {},
     "output_type": "execute_result"
    }
   ],
   "source": [
    "df['Colour']"
   ]
  },
  {
   "cell_type": "code",
   "execution_count": 50,
   "metadata": {},
   "outputs": [
    {
     "data": {
      "text/plain": [
       "array(['Black', nan, 'Grey', 'Yellow', 'White', 'Silver', 'Red', 'Blue',\n",
       "       'Green', 'Beige', 'Brown', 'Gold', 'Bronze', 'Violet', 'Orange'],\n",
       "      dtype=object)"
      ]
     },
     "execution_count": 50,
     "metadata": {},
     "output_type": "execute_result"
    }
   ],
   "source": [
    "df['Colour'].unique()"
   ]
  },
  {
   "cell_type": "markdown",
   "metadata": {},
   "source": [
    "** <b>Column name of 'Point'<b>"
   ]
  },
  {
   "cell_type": "code",
   "execution_count": 51,
   "metadata": {},
   "outputs": [
    {
     "data": {
      "text/plain": [
       "0        Metallic\n",
       "1             NaN\n",
       "2             NaN\n",
       "3             NaN\n",
       "4        Metallic\n",
       "           ...   \n",
       "29475         NaN\n",
       "29476    Metallic\n",
       "29477    Metallic\n",
       "29478         NaN\n",
       "29479         NaN\n",
       "Name: Paint, Length: 29480, dtype: object"
      ]
     },
     "execution_count": 51,
     "metadata": {},
     "output_type": "execute_result"
    }
   ],
   "source": [
    "df['Paint']"
   ]
  },
  {
   "cell_type": "code",
   "execution_count": 52,
   "metadata": {},
   "outputs": [
    {
     "data": {
      "text/plain": [
       "array(['Metallic', nan, 'Uni/basic'], dtype=object)"
      ]
     },
     "execution_count": 52,
     "metadata": {},
     "output_type": "execute_result"
    }
   ],
   "source": [
    "df['Paint'].unique()"
   ]
  },
  {
   "cell_type": "markdown",
   "metadata": {},
   "source": [
    "** <b>Column name of 'Desc'<b>"
   ]
  },
  {
   "cell_type": "code",
   "execution_count": 53,
   "metadata": {},
   "outputs": [
    {
     "data": {
      "text/plain": [
       "0    [ , Precio al contado: 16950 euros,  ,  , Vehí...\n",
       "1    [ , Precio al contado: 88900 euros,  , AUTO OJ...\n",
       "2    [Gris MANUFAKTUR mountaingrau magno,  , Linea/...\n",
       "3    [ , Precio al contado: 48990 euros,  ,  , BONI...\n",
       "4    [ , Precio al contado: 17400 euros,  , Vehícul...\n",
       "Name: Desc, dtype: object"
      ]
     },
     "execution_count": 53,
     "metadata": {},
     "output_type": "execute_result"
    }
   ],
   "source": [
    "df['Desc'].head(5)"
   ]
  },
  {
   "cell_type": "code",
   "execution_count": 54,
   "metadata": {},
   "outputs": [
    {
     "data": {
      "text/plain": [
       "0    Precio Al Contado: 16950 Euros  Vehículo Con H...\n",
       "1    Precio Al Contado: 88900 Euros Auto Oja S.A. -...\n",
       "2    Gris Manufaktur Mountaingrau Magno Linea/Estil...\n",
       "3    Precio Al Contado: 48990 Euros  Bonificacion P...\n",
       "4    Precio Al Contado: 17400 Euros Vehículo En Per...\n",
       "Name: Desc, dtype: object"
      ]
     },
     "execution_count": 54,
     "metadata": {},
     "output_type": "execute_result"
    }
   ],
   "source": [
    "df['Desc'] = df['Desc'].apply(lambda x : \"\".join(x).strip() if type(x) == list else x).str.title()\n",
    "df['Desc'].head(5)"
   ]
  },
  {
   "cell_type": "markdown",
   "metadata": {},
   "source": [
    "** <b>Column name of 'Seller'<b>"
   ]
  },
  {
   "cell_type": "code",
   "execution_count": 55,
   "metadata": {},
   "outputs": [
    {
     "data": {
      "text/plain": [
       "0        Dealer\n",
       "1        Dealer\n",
       "2        Dealer\n",
       "3        Dealer\n",
       "4        Dealer\n",
       "          ...  \n",
       "29475    Dealer\n",
       "29476    Dealer\n",
       "29477    Dealer\n",
       "29478    Dealer\n",
       "29479       NaN\n",
       "Name: Seller, Length: 29480, dtype: object"
      ]
     },
     "execution_count": 55,
     "metadata": {},
     "output_type": "execute_result"
    }
   ],
   "source": [
    "df['Seller']"
   ]
  },
  {
   "cell_type": "code",
   "execution_count": 56,
   "metadata": {},
   "outputs": [
    {
     "data": {
      "text/plain": [
       "array(['Dealer', 'Private seller', nan], dtype=object)"
      ]
     },
     "execution_count": 56,
     "metadata": {},
     "output_type": "execute_result"
    }
   ],
   "source": [
    "df['Seller'].unique()"
   ]
  },
  {
   "cell_type": "markdown",
   "metadata": {},
   "source": [
    "** <b>Column name of 'Seats'<b>"
   ]
  },
  {
   "cell_type": "code",
   "execution_count": 57,
   "metadata": {},
   "outputs": [
    {
     "data": {
      "text/plain": [
       "0                NaN\n",
       "1        [\\n, 5, \\n]\n",
       "2        [\\n, 5, \\n]\n",
       "3        [\\n, 5, \\n]\n",
       "4        [\\n, 5, \\n]\n",
       "            ...     \n",
       "29475    [\\n, 5, \\n]\n",
       "29476    [\\n, 4, \\n]\n",
       "29477    [\\n, 5, \\n]\n",
       "29478    [\\n, 5, \\n]\n",
       "29479            NaN\n",
       "Name: Seats, Length: 29480, dtype: object"
      ]
     },
     "execution_count": 57,
     "metadata": {},
     "output_type": "execute_result"
    }
   ],
   "source": [
    "df['Seats']"
   ]
  },
  {
   "cell_type": "code",
   "execution_count": 58,
   "metadata": {},
   "outputs": [
    {
     "data": {
      "text/plain": [
       "0              NaN\n",
       "1        \\n, 5, \\n\n",
       "2        \\n, 5, \\n\n",
       "3        \\n, 5, \\n\n",
       "4        \\n, 5, \\n\n",
       "           ...    \n",
       "29475    \\n, 5, \\n\n",
       "29476    \\n, 4, \\n\n",
       "29477    \\n, 5, \\n\n",
       "29478    \\n, 5, \\n\n",
       "29479          NaN\n",
       "Name: Seats, Length: 29480, dtype: object"
      ]
     },
     "execution_count": 58,
     "metadata": {},
     "output_type": "execute_result"
    }
   ],
   "source": [
    "df['Seats']=df['Seats'].apply(lambda item: \",\".join(item) if type(item) == list else item)\n",
    "df['Seats']"
   ]
  },
  {
   "cell_type": "code",
   "execution_count": 59,
   "metadata": {},
   "outputs": [
    {
     "data": {
      "text/plain": [
       "0        NaN\n",
       "1         5 \n",
       "2         5 \n",
       "3         5 \n",
       "4         5 \n",
       "        ... \n",
       "29475     5 \n",
       "29476     4 \n",
       "29477     5 \n",
       "29478     5 \n",
       "29479    NaN\n",
       "Name: Seats, Length: 29480, dtype: object"
      ]
     },
     "execution_count": 59,
     "metadata": {},
     "output_type": "execute_result"
    }
   ],
   "source": [
    "df['Seats'] = df['Seats'].apply(lambda item: re.sub(r'[\\n,]', '', item) if type(item) == str else item)\n",
    "df['Seats'] #float type yapmistim sonra tekrardan object yaptim ama en bastan calistirmam lazim ki duzelsin"
   ]
  },
  {
   "cell_type": "markdown",
   "metadata": {},
   "source": [
    "** <b>Column name of 'Power'<b>"
   ]
  },
  {
   "cell_type": "code",
   "execution_count": 60,
   "metadata": {},
   "outputs": [
    {
     "data": {
      "text/plain": [
       "0                          NaN\n",
       "1        [\\n215 kW (292 hp)\\n]\n",
       "2        [\\n310 kW (421 hp)\\n]\n",
       "3        [\\n225 kW (306 hp)\\n]\n",
       "4        [\\n100 kW (136 hp)\\n]\n",
       "                 ...          \n",
       "29475    [\\n125 kW (170 hp)\\n]\n",
       "29476     [\\n84 kW (114 hp)\\n]\n",
       "29477    [\\n187 kW (254 hp)\\n]\n",
       "29478    [\\n147 kW (200 hp)\\n]\n",
       "29479                      NaN\n",
       "Name: Power, Length: 29480, dtype: object"
      ]
     },
     "execution_count": 60,
     "metadata": {},
     "output_type": "execute_result"
    }
   ],
   "source": [
    "df['Power']"
   ]
  },
  {
   "cell_type": "code",
   "execution_count": 61,
   "metadata": {},
   "outputs": [
    {
     "data": {
      "text/plain": [
       "0        NaN\n",
       "1        292\n",
       "2        421\n",
       "3        306\n",
       "4        136\n",
       "        ... \n",
       "29475    170\n",
       "29476    114\n",
       "29477    254\n",
       "29478    200\n",
       "29479    NaN\n",
       "Name: Power, Length: 29480, dtype: object"
      ]
     },
     "execution_count": 61,
     "metadata": {},
     "output_type": "execute_result"
    }
   ],
   "source": [
    "df['Power'] = df['Power'].map(lambda x : x[0].strip(\"\\n \") if type(x) == list else x).str.extract(\".*\\((\\d+.*\\d*) \")\n",
    "df['Power']\n",
    "# 1 kW is nearly equal to 1.36 hp"
   ]
  },
  {
   "cell_type": "code",
   "execution_count": 62,
   "metadata": {
    "scrolled": true
   },
   "outputs": [
    {
     "data": {
      "text/plain": [
       "array([nan, '292', '421', '306', '136', '122', '190', '139', '90', '381',\n",
       "       '211', '116', '109', '160', '163', '194', '360', '218', '170',\n",
       "       '150', '235', '95', '557', '367', '639', '435', '523', '368',\n",
       "       '362', '275', '510', '379', '224', '640', '102', '179', '177',\n",
       "       '165', '156', '310', '91', '107', '137', '193', '152', '166',\n",
       "       '118', '110', '265', '185', '140', '184', '320', '476', '340',\n",
       "       '333', '204', '272', '571', '387', '530', '612', '522', '390',\n",
       "       '315', '245', '326', '231', '252', '585', '517', '462', '500',\n",
       "       '330', '469', '455', '238', '258', '188', '197', '158', '286',\n",
       "       '296', '105', '525', '457', '394', '556', '276', '201', '199',\n",
       "       '470', '86', '106', '230', '487', '481', '408', '299', '389',\n",
       "       '730', '220', '200', '799', '630', '143', '489', '544', '250',\n",
       "       '507', '449', '135', '228', '189', '658', '401', '239', '209',\n",
       "       '237', '129', '514', '280', '503', '279', '442', '132', '75',\n",
       "       '241', '69', '207', '101', '87', '99', '125', '131', '73', '58',\n",
       "       '80', '60', '141', '120', '88', '155', '111', '264', '311', '305',\n",
       "       '173', '147', '314', '103', '400', '192', '148', '167', '260',\n",
       "       '45', '67', '1', '92', '114', '68', '52', '117', '83', '84', '300',\n",
       "       '182', '181', '82', '257', '325', '145', '174', '124', '175',\n",
       "       '113', '205', '76', '64', '16', '159', '71', '72', '65', '18',\n",
       "       '54', '254', '98', '203', '77', '208', '162', '56', '12', '42',\n",
       "       '97', '94', '34', '133', '20', '61', '10', '273', '266', '226',\n",
       "       '261', '178', '303', '79', '5', '290', '11', '302', '294', '222',\n",
       "       '126', '169', '262', '121', '271', '247', '23', '128', '48', '39',\n",
       "       '215', '31', '24', '50', '26', '151', '19', '33', '154', '22',\n",
       "       '351', '49', '219', '63', '37', '30', '57', '14', '41', '35', '46',\n",
       "       '27', '281', '44', '295', '212', '186', '234', '600', '345', '900',\n",
       "       '329', '242', '1,256', '321', '341', '171', '227', '386', '243',\n",
       "       '144', '328', '313', '284', '398', '344', '337', '480', '570',\n",
       "       '549', '775', '283', '1,014', '426', '551', '485', '494', '334',\n",
       "       '332', '223', '349', '402', '1,201', '904', '1,101', '650', '445',\n",
       "       '816', '903', '674', '466', '213', '256', '249', '450', '419',\n",
       "       '317', '441', '309', '29', '291', '322', '460', '417', '717',\n",
       "       '662', '548', '465', '412', '670', '451', '506', '678', '196',\n",
       "       '496', '424', '771', '461', '420', '269', '560', '721', '751',\n",
       "       '464', '324', '526', '533', '363', '446', '749', '760', '659',\n",
       "       '430', '318', '405', '253', '4', '347', '8', '53', '373', '407',\n",
       "       '423', '392', '397', '288'], dtype=object)"
      ]
     },
     "execution_count": 62,
     "metadata": {},
     "output_type": "execute_result"
    }
   ],
   "source": [
    "df['Power'].unique()"
   ]
  },
  {
   "cell_type": "markdown",
   "metadata": {},
   "source": [
    "** <b>Column name of 'Engine_Size'<b>"
   ]
  },
  {
   "cell_type": "code",
   "execution_count": 63,
   "metadata": {},
   "outputs": [
    {
     "data": {
      "text/plain": [
       "0                   NaN\n",
       "1            [\\n1 cc\\n]\n",
       "2        [\\n1,991 cc\\n]\n",
       "3        [\\n1,991 cc\\n]\n",
       "4        [\\n2,143 cc\\n]\n",
       "              ...      \n",
       "29475    [\\n2,435 cc\\n]\n",
       "29476    [\\n1,560 cc\\n]\n",
       "29477    [\\n1,969 cc\\n]\n",
       "29478    [\\n2,922 cc\\n]\n",
       "29479               NaN\n",
       "Name: Engine_Size, Length: 29480, dtype: object"
      ]
     },
     "execution_count": 63,
     "metadata": {},
     "output_type": "execute_result"
    }
   ],
   "source": [
    "df['Engine_Size']"
   ]
  },
  {
   "cell_type": "code",
   "execution_count": 64,
   "metadata": {},
   "outputs": [
    {
     "data": {
      "text/plain": [
       "18280    4.0\n",
       "17914    1.8\n",
       "26704    2.0\n",
       "24705    NaN\n",
       "3037     1.4\n",
       "Name: Engine_Size, dtype: float64"
      ]
     },
     "execution_count": 64,
     "metadata": {},
     "output_type": "execute_result"
    }
   ],
   "source": [
    "df['Engine_Size'] = df['Engine_Size'].map(lambda x : x[0].strip(\"\\n c\").replace(\",\",\".\") if type(x) == list else x).astype(float).round(1)\n",
    "df['Engine_Size'].sample(5)"
   ]
  },
  {
   "cell_type": "markdown",
   "metadata": {},
   "source": [
    "** <b>Column name of 'Gears'<b>"
   ]
  },
  {
   "cell_type": "code",
   "execution_count": 65,
   "metadata": {},
   "outputs": [
    {
     "data": {
      "text/plain": [
       "0            NaN\n",
       "1        [\\n9\\n]\n",
       "2        [\\n8\\n]\n",
       "3        [\\n7\\n]\n",
       "4        [\\n7\\n]\n",
       "          ...   \n",
       "29475    [\\n5\\n]\n",
       "29476    [\\n6\\n]\n",
       "29477    [\\n8\\n]\n",
       "29478        NaN\n",
       "29479        NaN\n",
       "Name: Gears, Length: 29480, dtype: object"
      ]
     },
     "execution_count": 65,
     "metadata": {},
     "output_type": "execute_result"
    }
   ],
   "source": [
    "df['Gears']"
   ]
  },
  {
   "cell_type": "code",
   "execution_count": 66,
   "metadata": {},
   "outputs": [
    {
     "data": {
      "text/plain": [
       "22774    NaN\n",
       "18968      6\n",
       "25908      6\n",
       "11444      5\n",
       "14238    NaN\n",
       "Name: Gears, dtype: object"
      ]
     },
     "execution_count": 66,
     "metadata": {},
     "output_type": "execute_result"
    }
   ],
   "source": [
    "df['Gears'] = df['Gears'].apply(lambda x : x[0].strip(\"\\n\") if type(x) == list else x)\n",
    "df['Gears'].sample(5)"
   ]
  },
  {
   "cell_type": "code",
   "execution_count": 67,
   "metadata": {},
   "outputs": [
    {
     "data": {
      "text/plain": [
       "array([nan, '9', '8', '7', '6', '1', '5', '4', '3', '0', '2', '10'],\n",
       "      dtype=object)"
      ]
     },
     "execution_count": 67,
     "metadata": {},
     "output_type": "execute_result"
    }
   ],
   "source": [
    "df['Gears'].unique()"
   ]
  },
  {
   "cell_type": "markdown",
   "metadata": {},
   "source": [
    "** <b>Column name of 'Cylinders'<b>"
   ]
  },
  {
   "cell_type": "code",
   "execution_count": 68,
   "metadata": {},
   "outputs": [
    {
     "data": {
      "text/plain": [
       "0        NaN\n",
       "1        NaN\n",
       "2          4\n",
       "3          4\n",
       "4          4\n",
       "        ... \n",
       "29475      5\n",
       "29476      4\n",
       "29477      4\n",
       "29478      6\n",
       "29479    NaN\n",
       "Name: Cylinders, Length: 29480, dtype: object"
      ]
     },
     "execution_count": 68,
     "metadata": {},
     "output_type": "execute_result"
    }
   ],
   "source": [
    "df['Cylinders'] = df['Cylinders'].apply(lambda x : x[0].strip(\"\\n\") if type(x) == list else x)\n",
    "df['Cylinders']"
   ]
  },
  {
   "cell_type": "markdown",
   "metadata": {},
   "source": [
    "** <b>Column name of 'Fuel_Consumption'<b>"
   ]
  },
  {
   "cell_type": "markdown",
   "metadata": {},
   "source": [
    "* This column's values were in lists, I extract first list that lists which are comb values. And than I took the fuel consumption in 100 km from the list as float type. "
   ]
  },
  {
   "cell_type": "code",
   "execution_count": 69,
   "metadata": {},
   "outputs": [
    {
     "data": {
      "text/plain": [
       "0                                                      NaN\n",
       "1                                                      NaN\n",
       "2        [[8.4 l/100 km (comb.)], [10.9 l/100 km (city)...\n",
       "3        [[7.3 l/100 km (comb.)], [9.3 l/100 km (city)]...\n",
       "4        [[4.9 l/100 km (comb.)], [5.7 l/100 km (city)]...\n",
       "                               ...                        \n",
       "29475    [[9.1 l/100 km (comb.)], [13.2 l/100 km (city)...\n",
       "29476    [[3.8 l/100 km (comb.)], [4.3 l/100 km (city)]...\n",
       "29477    [[6.5 l/100 km (comb.)], [8.6 l/100 km (city)]...\n",
       "29478    [[10.4 l/100 km (comb.)], [15.3 l/100 km (city...\n",
       "29479                                                  NaN\n",
       "Name: Fuel_Consumption, Length: 29480, dtype: object"
      ]
     },
     "execution_count": 69,
     "metadata": {},
     "output_type": "execute_result"
    }
   ],
   "source": [
    "df['Fuel_Consumption']"
   ]
  },
  {
   "cell_type": "code",
   "execution_count": 70,
   "metadata": {},
   "outputs": [
    {
     "data": {
      "text/plain": [
       "[['8.4 l/100 km (comb.)'],\n",
       " ['10.9 l/100 km (city)'],\n",
       " ['5.8 l/100 km (country)']]"
      ]
     },
     "execution_count": 70,
     "metadata": {},
     "output_type": "execute_result"
    }
   ],
   "source": [
    "df['Fuel_Consumption'][2]"
   ]
  },
  {
   "cell_type": "code",
   "execution_count": 71,
   "metadata": {},
   "outputs": [
    {
     "data": {
      "text/plain": [
       "0                           None\n",
       "1                           None\n",
       "2         [8.4 l/100 km (comb.)]\n",
       "3         [7.3 l/100 km (comb.)]\n",
       "4         [4.9 l/100 km (comb.)]\n",
       "                  ...           \n",
       "29475     [9.1 l/100 km (comb.)]\n",
       "29476     [3.8 l/100 km (comb.)]\n",
       "29477     [6.5 l/100 km (comb.)]\n",
       "29478    [10.4 l/100 km (comb.)]\n",
       "29479                       None\n",
       "Name: Fuel_Consumption, Length: 29480, dtype: object"
      ]
     },
     "execution_count": 71,
     "metadata": {},
     "output_type": "execute_result"
    }
   ],
   "source": [
    "df['Fuel_Consumption'] = df['Fuel_Consumption'].apply(lambda x: x[0] if isinstance(x, list) else None)\n",
    "df['Fuel_Consumption']"
   ]
  },
  {
   "cell_type": "code",
   "execution_count": 72,
   "metadata": {},
   "outputs": [
    {
     "data": {
      "text/plain": [
       "0         NaN\n",
       "1         NaN\n",
       "2         8.4\n",
       "3         7.3\n",
       "4         4.9\n",
       "         ... \n",
       "29475     9.1\n",
       "29476     3.8\n",
       "29477     6.5\n",
       "29478    10.4\n",
       "29479     NaN\n",
       "Name: Fuel_Consumption, Length: 29480, dtype: float64"
      ]
     },
     "execution_count": 72,
     "metadata": {},
     "output_type": "execute_result"
    }
   ],
   "source": [
    "df['Fuel_Consumption'] = df['Fuel_Consumption'].apply(lambda x: x[0].split()[0] if isinstance(x, list) else None).astype(float)\n",
    "df['Fuel_Consumption']"
   ]
  },
  {
   "cell_type": "markdown",
   "metadata": {},
   "source": [
    "** <b>Column name of 'Comfort_&_Convenience'<b>"
   ]
  },
  {
   "cell_type": "code",
   "execution_count": 73,
   "metadata": {},
   "outputs": [
    {
     "data": {
      "text/plain": [
       "0                                                      NaN\n",
       "1                                                      NaN\n",
       "2                                                      NaN\n",
       "3        [Air conditioning, Automatic climate control, ...\n",
       "4        [Air conditioning, Electrical side mirrors, Mu...\n",
       "                               ...                        \n",
       "29475    [Air conditioning, Armrest, Automatic climate ...\n",
       "29476    [Air conditioning, Armrest, Automatic climate ...\n",
       "29477    [Air conditioning, Armrest, Automatic climate ...\n",
       "29478    [Air conditioning, Armrest, Cruise control, El...\n",
       "29479                                                  NaN\n",
       "Name: Comfort_&_Convenience, Length: 29480, dtype: object"
      ]
     },
     "execution_count": 73,
     "metadata": {},
     "output_type": "execute_result"
    }
   ],
   "source": [
    "df['Comfort_&_Convenience']"
   ]
  },
  {
   "cell_type": "code",
   "execution_count": 74,
   "metadata": {},
   "outputs": [
    {
     "data": {
      "text/plain": [
       "11818    Air Conditioning, Automatic Climate Control, C...\n",
       "2954     Air Conditioning, Automatic Climate Control, C...\n",
       "26752    Air Conditioning, Armrest, Automatic Climate C...\n",
       "6335     Air Conditioning, Armrest, Automatic Climate C...\n",
       "6606     Air Conditioning, Armrest, Cruise Control, Ele...\n",
       "Name: Comfort_&_Convenience, dtype: category\n",
       "Categories (14438, object): ['360° Camera', '360° Camera, Air Conditioning, Air Suspension..., '360° Camera, Air Conditioning, Air Suspension..., '360° Camera, Air Conditioning, Air Suspension..., ..., 'Sunroof, Tinted Windows', 'Sunroof, Wind Deflector', 'Tinted Windows', 'Wind Deflector']"
      ]
     },
     "execution_count": 74,
     "metadata": {},
     "output_type": "execute_result"
    }
   ],
   "source": [
    "df[\"Comfort_&_Convenience\"] = df[\"Comfort_&_Convenience\"].apply(lambda x : x[0] if type(x) == list else x).str.title().astype(\"category\")\n",
    "df[\"Comfort_&_Convenience\"].sample(5)"
   ]
  },
  {
   "cell_type": "code",
   "execution_count": 75,
   "metadata": {},
   "outputs": [],
   "source": [
    "lux_comf_equipment = ['Heads-Up Display', 'Panorama Roof', 'Massage Seats', 'Electrically Adjustable Seats']\n",
    "mid_comf_equipment = ['Parking Assist System Sensors Front', 'Parking Assist System Sensors Rear', 'Cruise Control', 'Rain Sensor']\n",
    "basic_comf_equipment = ['Park Distance Control', 'Fold Flat Passenger Seat', 'Wind Deflector', 'Sliding Door Right']\n"
   ]
  },
  {
   "cell_type": "code",
   "execution_count": 76,
   "metadata": {},
   "outputs": [],
   "source": [
    "def categorize_car_comfort(equipment):\n",
    "    if any(item in equipment for item in lux_comf_equipment):\n",
    "        return 'Luxury'\n",
    "    elif any(item in equipment for item in mid_comf_equipment):\n",
    "        return 'Mid-Range'\n",
    "    elif any(item in equipment for item in basic_comf_equipment):\n",
    "        return 'Basic'\n",
    "    else:\n",
    "        return 'Uncategorized'"
   ]
  },
  {
   "cell_type": "code",
   "execution_count": 77,
   "metadata": {},
   "outputs": [
    {
     "data": {
      "text/plain": [
       "0                  NaN\n",
       "1                  NaN\n",
       "2                  NaN\n",
       "3            Mid-Range\n",
       "4        Uncategorized\n",
       "             ...      \n",
       "29475        Mid-Range\n",
       "29476        Mid-Range\n",
       "29477        Mid-Range\n",
       "29478        Mid-Range\n",
       "29479              NaN\n",
       "Name: Com_Conv, Length: 29480, dtype: object"
      ]
     },
     "execution_count": 77,
     "metadata": {},
     "output_type": "execute_result"
    }
   ],
   "source": [
    "df['Com_Conv'] = df['Comfort_&_Convenience'].apply(lambda x: categorize_car_comfort(x))\n",
    "df['Com_Conv'] "
   ]
  },
  {
   "cell_type": "code",
   "execution_count": 78,
   "metadata": {},
   "outputs": [
    {
     "data": {
      "text/plain": [
       "Mid-Range        13991\n",
       "Luxury            7260\n",
       "NaN               4047\n",
       "Uncategorized     3997\n",
       "Basic              185\n",
       "Name: Com_Conv, dtype: int64"
      ]
     },
     "execution_count": 78,
     "metadata": {},
     "output_type": "execute_result"
    }
   ],
   "source": [
    "df['Com_Conv'].value_counts(dropna=False)"
   ]
  },
  {
   "cell_type": "markdown",
   "metadata": {},
   "source": [
    "** <b>Column name of 'Entertainment_&_Media'<b>"
   ]
  },
  {
   "cell_type": "code",
   "execution_count": 79,
   "metadata": {},
   "outputs": [
    {
     "data": {
      "text/plain": [
       "NaN                                                                                                                                                                          5836\n",
       "[Bluetooth, USB]                                                                                                                                                              753\n",
       "[Bluetooth]                                                                                                                                                                   665\n",
       "[On-board computer]                                                                                                                                                           662\n",
       "[CD player, On-board computer, Radio]                                                                                                                                         644\n",
       "                                                                                                                                                                             ... \n",
       "[Android Auto, Apple CarPlay, Bluetooth, Digital cockpit, Digital radio, Induction charging for smartphones, On-board computer, Radio, Sound system, WLAN / WiFi hotspot]       1\n",
       "[Bluetooth, CD player, Digital cockpit, Digital radio, Hands-free equipment, Integrated music streaming, On-board computer, Sound system, USB, WLAN / WiFi hotspot]             1\n",
       "[Digital cockpit, Digital radio, On-board computer, Radio]                                                                                                                      1\n",
       "[Android Auto, Apple CarPlay, Digital radio, On-board computer, Radio, Sound system, USB, WLAN / WiFi hotspot]                                                                  1\n",
       "[Hands-free equipment, Integrated music streaming, On-board computer, Radio, USB]                                                                                               1\n",
       "Name: Entertainment_&_Media, Length: 1945, dtype: int64"
      ]
     },
     "execution_count": 79,
     "metadata": {},
     "output_type": "execute_result"
    }
   ],
   "source": [
    "df['Entertainment_&_Media'].value_counts(dropna=False)"
   ]
  },
  {
   "cell_type": "code",
   "execution_count": 80,
   "metadata": {},
   "outputs": [
    {
     "data": {
      "text/plain": [
       "25453    Android Auto, Apple Carplay, Bluetooth, Digita...\n",
       "13498    Android Auto, Apple Carplay, Bluetooth, Cd Pla...\n",
       "9427            Digital Cockpit, Digital Radio, Radio, Usb\n",
       "15277                             On-Board Computer, Radio\n",
       "7103                              On-Board Computer, Radio\n",
       "Name: Entertainment_&_Media, dtype: category\n",
       "Categories (1944, object): ['Android Auto', 'Android Auto, Apple Carplay', 'Android Auto, Apple Carplay, Bluetooth', 'Android Auto, Apple Carplay, Bluetooth, Cd Pl..., ..., 'Sound System, Usb', 'Sound System, Wlan / Wifi Hotspot', 'Usb', 'Wlan / Wifi Hotspot']"
      ]
     },
     "execution_count": 80,
     "metadata": {},
     "output_type": "execute_result"
    }
   ],
   "source": [
    "df[\"Entertainment_&_Media\"] = df[\"Entertainment_&_Media\"].apply(lambda x : x[0] if type(x) == list else x).str.title().astype(\"category\")\n",
    "df[\"Entertainment_&_Media\"].sample(5)"
   ]
  },
  {
   "cell_type": "code",
   "execution_count": 81,
   "metadata": {},
   "outputs": [
    {
     "data": {
      "text/plain": [
       "{'Usb': 1318,\n",
       " 'Bluetooth': 1474,\n",
       " 'Cd Player': 697,\n",
       " 'Mp3': 844,\n",
       " 'On-Board Computer': 1437,\n",
       " 'Radio': 1404,\n",
       " 'Digital Cockpit': 654,\n",
       " 'Hands-Free Equipment': 1279,\n",
       " 'Sound System': 927,\n",
       " 'Digital Radio': 1017,\n",
       " 'Android Auto': 838,\n",
       " 'Apple Carplay': 904,\n",
       " 'Induction Charging For Smartphones': 427,\n",
       " 'Integrated Music Streaming': 483,\n",
       " 'Wlan / Wifi Hotspot': 402,\n",
       " 'Television': 92}"
      ]
     },
     "execution_count": 81,
     "metadata": {},
     "output_type": "execute_result"
    }
   ],
   "source": [
    "equipment_list = list(df[\"Entertainment_&_Media\"].dropna().unique())\n",
    "\n",
    "equipment_unique_list = {}\n",
    "\n",
    "for equipment in equipment_list:\n",
    "    items = equipment.split(', ')\n",
    "    for item in items:\n",
    "        item = item.strip()\n",
    "        if item in equipment_unique_list:\n",
    "            equipment_unique_list[item] += 1\n",
    "        else:\n",
    "            equipment_unique_list[item] = 1\n",
    "\n",
    "equipment_unique_list"
   ]
  },
  {
   "cell_type": "code",
   "execution_count": 82,
   "metadata": {},
   "outputs": [],
   "source": [
    "lux_media_equipment = ['Digital Cockpit', 'Integrated Music Streaming', 'Television']\n",
    "mid_media_equipment = ['Usb', 'Bluetooth', 'On-Board Computer', 'Sound System']\n",
    "basic_media_equipment = ['Cd Player', 'Mp3', 'Radio']"
   ]
  },
  {
   "cell_type": "code",
   "execution_count": 83,
   "metadata": {},
   "outputs": [],
   "source": [
    "def categorize_car_media(equipment):\n",
    "    if any(item in equipment for item in lux_media_equipment):\n",
    "        return 'Luxury'\n",
    "    elif any(item in equipment for item in mid_media_equipment):\n",
    "        return 'Mid-Range'\n",
    "    elif any(item in equipment for item in basic_media_equipment):\n",
    "        return 'Basic'\n",
    "    else:\n",
    "        return 'Uncategorized'\n"
   ]
  },
  {
   "cell_type": "code",
   "execution_count": 84,
   "metadata": {},
   "outputs": [
    {
     "data": {
      "text/plain": [
       "10803       Luxury\n",
       "10339    Mid-Range\n",
       "8682        Luxury\n",
       "24723    Mid-Range\n",
       "25940    Mid-Range\n",
       "Name: Ent_Media, dtype: object"
      ]
     },
     "execution_count": 84,
     "metadata": {},
     "output_type": "execute_result"
    }
   ],
   "source": [
    "df['Ent_Media'] = df['Entertainment_&_Media'].apply(lambda x: categorize_car_media(x))\n",
    "df['Ent_Media'].sample(5)"
   ]
  },
  {
   "cell_type": "code",
   "execution_count": 85,
   "metadata": {},
   "outputs": [
    {
     "data": {
      "text/plain": [
       "Mid-Range        16411\n",
       "Luxury            5853\n",
       "NaN               5836\n",
       "Basic             1308\n",
       "Uncategorized       72\n",
       "Name: Ent_Media, dtype: int64"
      ]
     },
     "execution_count": 85,
     "metadata": {},
     "output_type": "execute_result"
    }
   ],
   "source": [
    "df['Ent_Media'].value_counts(dropna=False)"
   ]
  },
  {
   "cell_type": "markdown",
   "metadata": {},
   "source": [
    "** <b>Column name of 'Safety_&_Security'<b>"
   ]
  },
  {
   "cell_type": "code",
   "execution_count": 86,
   "metadata": {
    "scrolled": true
   },
   "outputs": [
    {
     "data": {
      "text/plain": [
       "NaN                                                                                                                                                                                                                                                                                                                                                                                                                                                                                                                            4065\n",
       "[Isofix]                                                                                                                                                                                                                                                                                                                                                                                                                                                                                                                        380\n",
       "[ABS, Central door lock, Driver-side airbag, Electronic stability control, Immobilizer, Isofix, Passenger-side airbag, Power steering, Side airbag]                                                                                                                                                                                                                                                                                                                                                                             328\n",
       "[ABS, Central door lock, Driver-side airbag, Immobilizer, Isofix, Passenger-side airbag, Power steering, Side airbag, Traction control]                                                                                                                                                                                                                                                                                                                                                                                         125\n",
       "[ABS, Central door lock, Driver-side airbag, Electronic stability control, Fog lights, Isofix, Power steering, Side airbag]                                                                                                                                                                                                                                                                                                                                                                                                     121\n",
       "                                                                                                                                                                                                                                                                                                                                                                                                                                                                                                                               ... \n",
       "[Daytime running lights, Emergency brake assistant, Fog lights, Isofix, LED Daytime Running Lights, Lane departure warning system, Power steering, Tire pressure monitoring system]                                                                                                                                                                                                                                                                                                                                               1\n",
       "[ABS, Adaptive Cruise Control, Central door lock, Daytime running lights, Driver drowsiness detection, Driver-side airbag, Electronic stability control, Emergency brake assistant, Emergency system, Fog lights, Full-LED headlights, Glare-free high beam headlights, Immobilizer, Isofix, LED Headlights, Lane departure warning system, Passenger-side airbag, Power steering, Side airbag, Tire pressure monitoring system, Traction control]                                                                                1\n",
       "[ABS, Driver-side airbag, Electronic stability control, Emergency brake assistant, Immobilizer, LED Daytime Running Lights, Passenger-side airbag, Side airbag, Tire pressure monitoring system, Traction control]                                                                                                                                                                                                                                                                                                                1\n",
       "[ABS, Blind spot monitor, Central door lock, Daytime running lights, Distance warning system, Driver drowsiness detection, Driver-side airbag, Electronic stability control, Emergency system, Fog lights, Full-LED headlights, Head airbag, High beam assist, Immobilizer, Isofix, LED Daytime Running Lights, LED Headlights, Lane departure warning system, Passenger-side airbag, Power steering, Side airbag, Speed limit control system, Tire pressure monitoring system, Traction control, Traffic sign recognition]       1\n",
       "[ABS, Alarm system, Central door lock, Central door lock with remote control, Driver-side airbag, Electronic stability control, Fog lights, Head airbag, Immobilizer, Power steering, Side airbag, Traction control]                                                                                                                                                                                                                                                                                                              1\n",
       "Name: Safety_&_Security, Length: 12550, dtype: int64"
      ]
     },
     "execution_count": 86,
     "metadata": {},
     "output_type": "execute_result"
    }
   ],
   "source": [
    "df[\"Safety_&_Security\"].value_counts(dropna=False)"
   ]
  },
  {
   "cell_type": "code",
   "execution_count": 87,
   "metadata": {},
   "outputs": [
    {
     "data": {
      "text/plain": [
       "19570    Abs, Alarm System, Daytime Running Lights, Dri...\n",
       "4124     Abs, Adaptive Cruise Control, Adaptive Headlig...\n",
       "13553    Abs, Central Door Lock, Daytime Running Lights...\n",
       "8220     Abs, Adaptive Headlights, Driver-Side Airbag, ...\n",
       "28051                 Driver-Side Airbag, Emergency System\n",
       "Name: Safety_&_Security, dtype: category\n",
       "Categories (12549, object): ['Abs', 'Abs, Adaptive Cruise Control, Adaptive Headli..., 'Abs, Adaptive Cruise Control, Adaptive Headli..., 'Abs, Adaptive Cruise Control, Adaptive Headli..., ..., 'Speed Limit Control System', 'Tire Pressure Monitoring System', 'Traction Control', 'Xenon Headlights']"
      ]
     },
     "execution_count": 87,
     "metadata": {},
     "output_type": "execute_result"
    }
   ],
   "source": [
    "df[\"Safety_&_Security\"] = df[\"Safety_&_Security\"].apply(lambda x : x[0] if type(x) == list else x).str.title().astype(\"category\")\n",
    "df[\"Safety_&_Security\"].sample(5)"
   ]
  },
  {
   "cell_type": "code",
   "execution_count": 88,
   "metadata": {},
   "outputs": [
    {
     "data": {
      "text/plain": [
       "{'Abs': 11613,\n",
       " 'Central Door Lock': 9744,\n",
       " 'Driver-Side Airbag': 11337,\n",
       " 'Electronic Stability Control': 10588,\n",
       " 'Traction Control': 8249,\n",
       " 'Isofix': 8983,\n",
       " 'Xenon Headlights': 2249,\n",
       " 'Bi-Xenon Headlights': 1545,\n",
       " 'Fog Lights': 8017,\n",
       " 'Head Airbag': 5229,\n",
       " 'Immobilizer': 9041,\n",
       " 'Passenger-Side Airbag': 11209,\n",
       " 'Power Steering': 10700,\n",
       " 'Side Airbag': 10475,\n",
       " 'Speed Limit Control System': 4341,\n",
       " 'Emergency Brake Assistant': 5903,\n",
       " 'Alarm System': 3729,\n",
       " 'Central Door Lock With Remote Control': 5308,\n",
       " 'Tire Pressure Monitoring System': 8580,\n",
       " 'Daytime Running Lights': 7135,\n",
       " 'Led Daytime Running Lights': 6867,\n",
       " 'Led Headlights': 5056,\n",
       " 'Lane Departure Warning System': 4958,\n",
       " 'Traffic Sign Recognition': 4010,\n",
       " 'Full-Led Headlights': 1819,\n",
       " 'Distance Warning System': 3604,\n",
       " 'Driver Drowsiness Detection': 3470,\n",
       " 'Emergency System': 3462,\n",
       " 'High Beam Assist': 2905,\n",
       " 'Rear Airbag': 2041,\n",
       " 'Adaptive Cruise Control': 2468,\n",
       " 'Blind Spot Monitor': 2353,\n",
       " 'Glare-Free High Beam Headlights': 1053,\n",
       " 'Adaptive Headlights': 2922,\n",
       " 'Laser Headlights': 41,\n",
       " 'Night View Assist': 177}"
      ]
     },
     "execution_count": 88,
     "metadata": {},
     "output_type": "execute_result"
    }
   ],
   "source": [
    "sequrity_equipment_list = list(df[\"Safety_&_Security\"].dropna().unique())\n",
    "\n",
    "equipment_unique_list = {}\n",
    "\n",
    "for equipment in sequrity_equipment_list:\n",
    "    items = equipment.split(', ')\n",
    "    for item in items:\n",
    "        item = item.strip()\n",
    "        if item in equipment_unique_list:\n",
    "            equipment_unique_list[item] += 1\n",
    "        else:\n",
    "            equipment_unique_list[item] = 1\n",
    "\n",
    "equipment_unique_list"
   ]
  },
  {
   "cell_type": "code",
   "execution_count": 89,
   "metadata": {},
   "outputs": [],
   "source": [
    "lux_sequrity_features = ['Full-Led Headlights', 'Adaptive Cruise Control', 'Lane Departure Warning System', 'Night View Assist']\n",
    "mid_sequrity_features = ['Abs', 'Electronic Stability Control', 'Isofix', 'Tire Pressure Monitoring System']\n",
    "basic_sequrity_features = ['Fog Lights', 'Immobilizer', 'Speed Limit Control System', 'Emergency Brake Assistant']"
   ]
  },
  {
   "cell_type": "code",
   "execution_count": 90,
   "metadata": {},
   "outputs": [],
   "source": [
    "def categorize_car_sequrity(equipment):\n",
    "    if any(item in equipment for item in lux_sequrity_features):\n",
    "        return 'Luxury'\n",
    "    elif any(item in equipment for item in mid_sequrity_features):\n",
    "        return 'Mid-Range'\n",
    "    elif any(item in equipment for item in basic_sequrity_features):\n",
    "        return 'Basic'\n",
    "    else:\n",
    "        return 'Uncategorized'"
   ]
  },
  {
   "cell_type": "code",
   "execution_count": 91,
   "metadata": {},
   "outputs": [
    {
     "data": {
      "text/plain": [
       "17659          NaN\n",
       "21713       Luxury\n",
       "5469     Mid-Range\n",
       "6320     Mid-Range\n",
       "9577     Mid-Range\n",
       "Name: Safe_Secure, dtype: object"
      ]
     },
     "execution_count": 91,
     "metadata": {},
     "output_type": "execute_result"
    }
   ],
   "source": [
    "df['Safe_Secure'] = df['Safety_&_Security'].apply(lambda x: categorize_car_sequrity(x))\n",
    "df['Safe_Secure'].sample(5)"
   ]
  },
  {
   "cell_type": "code",
   "execution_count": 92,
   "metadata": {},
   "outputs": [
    {
     "data": {
      "text/plain": [
       "Mid-Range        15145\n",
       "Luxury            9454\n",
       "NaN               4065\n",
       "Uncategorized      453\n",
       "Basic              363\n",
       "Name: Safe_Secure, dtype: int64"
      ]
     },
     "execution_count": 92,
     "metadata": {},
     "output_type": "execute_result"
    }
   ],
   "source": [
    "df['Safe_Secure'].value_counts(dropna=False)"
   ]
  },
  {
   "cell_type": "markdown",
   "metadata": {},
   "source": [
    "** <b>Column name of 'Extras'<b>"
   ]
  },
  {
   "cell_type": "code",
   "execution_count": 93,
   "metadata": {},
   "outputs": [
    {
     "data": {
      "text/plain": [
       "NaN                                                                                                                                                                                                                                                                   6000\n",
       "[Alloy wheels]                                                                                                                                                                                                                                                        3408\n",
       "[Alloy wheels, Roof rack]                                                                                                                                                                                                                                              380\n",
       "[Alloy wheels, Sport seats]                                                                                                                                                                                                                                            372\n",
       "[Alloy wheels, Touch screen]                                                                                                                                                                                                                                           231\n",
       "                                                                                                                                                                                                                                                                      ... \n",
       "[Alloy wheels (18\"), Spoiler, Summer tyres, Trailer hitch]                                                                                                                                                                                                               1\n",
       "[All season tyres, Alloy wheels, Automatically dimming interior mirror, Catalytic Converter, Headlight washer system, Ski bag, Sport seats, Trailer hitch, Winter tyres]                                                                                                 1\n",
       "[Alloy wheels, Automatically dimming interior mirror, Headlight washer system, Sport package, Sport seats, Summer tyres]                                                                                                                                                 1\n",
       "[Alloy wheels (19\"), Ambient lighting, Automatically dimming interior mirror, Catalytic Converter, E10-enabled, Emergency tyre repair kit, Headlight washer system, Spoiler, Sport package, Sport seats, Sport suspension, Summer tyres, Tuned car, Voice Control]       1\n",
       "[Alloy wheels, Automatically dimming interior mirror, Ski bag, Trailer hitch]                                                                                                                                                                                            1\n",
       "Name: Extras, Length: 9361, dtype: int64"
      ]
     },
     "execution_count": 93,
     "metadata": {},
     "output_type": "execute_result"
    }
   ],
   "source": [
    "df['Extras'].value_counts(dropna=False)"
   ]
  },
  {
   "cell_type": "code",
   "execution_count": 94,
   "metadata": {},
   "outputs": [
    {
     "data": {
      "text/plain": [
       "12531    Alloy Wheels (18\"), Ambient Lighting, Automati...\n",
       "16291                              Roof Rack, Steel Wheels\n",
       "17539           Cargo Barrier, Touch Screen, Voice Control\n",
       "20246    Alloy Wheels (17\"), E10-Enabled, Electronic Pa...\n",
       "3558                       Alloy Wheels (17\"), Sport Seats\n",
       "Name: Extras, dtype: category\n",
       "Categories (9360, object): ['All Season Tyres', 'All Season Tyres, Alloy Wheels', 'All Season Tyres, Alloy Wheels (13\"), Catalyt..., 'All Season Tyres, Alloy Wheels (14\")', ..., 'Voice Control, Winter Tyres', 'Winter Package', 'Winter Package, Winter Tyres', 'Winter Tyres']"
      ]
     },
     "execution_count": 94,
     "metadata": {},
     "output_type": "execute_result"
    }
   ],
   "source": [
    "df[\"Extras\"] = df[\"Extras\"].apply(lambda x : x[0] if type(x) == list else x).str.title().astype(\"category\")\n",
    "df[\"Extras\"].sample(5)"
   ]
  },
  {
   "cell_type": "code",
   "execution_count": 95,
   "metadata": {},
   "outputs": [
    {
     "data": {
      "text/plain": [
       "{'Sport Seats': 4013,\n",
       " 'Alloy Wheels (17\")': 1027,\n",
       " 'Catalytic Converter': 1576,\n",
       " 'Emergency Tyre Repair Kit': 3328,\n",
       " 'Headlight Washer System': 1993,\n",
       " \"Smoker'S Package\": 518,\n",
       " 'Sport Package': 2521,\n",
       " 'Alloy Wheels': 4365,\n",
       " 'Spoiler': 1388,\n",
       " 'Sport Suspension': 2510,\n",
       " 'Automatically Dimming Interior Mirror': 5140,\n",
       " 'Voice Control': 4770,\n",
       " 'Cargo Barrier': 2061,\n",
       " 'Emergency Tyre': 1148,\n",
       " 'Summer Tyres': 3746,\n",
       " 'Winter Package': 2492,\n",
       " 'Alloy Wheels (19\")': 681,\n",
       " 'Ski Bag': 564,\n",
       " 'Winter Tyres': 957,\n",
       " 'Electronic Parking Brake': 2032,\n",
       " 'Shift Paddles': 2455,\n",
       " 'Touch Screen': 5068,\n",
       " 'Sliding Door': 60,\n",
       " 'Alloy Wheels (18\")': 933,\n",
       " 'Ambient Lighting': 2840,\n",
       " 'Alloy Wheels (16\")': 683,\n",
       " 'E10-Enabled': 2271,\n",
       " 'Spare Tyre': 1226,\n",
       " 'Alloy Wheels (21\")': 59,\n",
       " 'Trailer Hitch': 1621,\n",
       " 'Alloy Wheels (20\")': 243,\n",
       " 'Steel Wheels': 686,\n",
       " 'Biodiesel Conversion': 8,\n",
       " 'Handicapped Enabled': 26,\n",
       " 'Tuned Car': 235,\n",
       " 'Range Extender': 42,\n",
       " 'All Season Tyres': 991,\n",
       " 'Alloy Wheels (14\")': 37,\n",
       " 'Alloy Wheels (15\")': 214,\n",
       " 'Roof Rack': 2989,\n",
       " 'Alloy Wheels (22\")': 10,\n",
       " 'Alloy Wheels (23\")': 1,\n",
       " 'Alloy Wheels (13\")': 6,\n",
       " 'Right Hand Drive': 28,\n",
       " 'Awning': 55,\n",
       " 'Alloy Wheels (26\")': 1,\n",
       " 'Alloy Wheels (10\")': 1}"
      ]
     },
     "execution_count": 95,
     "metadata": {},
     "output_type": "execute_result"
    }
   ],
   "source": [
    "equipment_list = list(df[\"Extras\"].dropna().unique())\n",
    "\n",
    "equipment_unique_list = {}\n",
    "\n",
    "for equipment in equipment_list:\n",
    "    items = equipment.split(', ')\n",
    "    for item in items:\n",
    "        item = item.strip()\n",
    "        if item in equipment_unique_list:\n",
    "            equipment_unique_list[item] += 1\n",
    "        else:\n",
    "            equipment_unique_list[item] = 1\n",
    "\n",
    "equipment_unique_list"
   ]
  },
  {
   "cell_type": "code",
   "execution_count": 96,
   "metadata": {},
   "outputs": [],
   "source": [
    "lux_extra_features = ['Sport Seats', 'Headlight Washer System', 'Automatically Dimming Interior Mirror', 'Ambient Lighting']\n",
    "mid_extra_features = ['Sport Suspension', 'Alloy Wheels (18\")', 'Electronic Parking Brake', 'Roof Rack']\n",
    "basic_extra_features = ['Catalytic Converter', 'Emergency Tyre Repair Kit', 'Smoker\\'s Package', 'Winter Package']"
   ]
  },
  {
   "cell_type": "code",
   "execution_count": 97,
   "metadata": {},
   "outputs": [],
   "source": [
    "def categorize_car_extra(equipment):\n",
    "    if any(item in equipment for item in lux_extra_features):\n",
    "        return 'Luxury'\n",
    "    elif any(item in equipment for item in mid_extra_features):\n",
    "        return 'Mid-Range'\n",
    "    elif any(item in equipment for item in basic_extra_features):\n",
    "        return 'Basic'\n",
    "    else:\n",
    "        return 'Uncategorized'"
   ]
  },
  {
   "cell_type": "code",
   "execution_count": 98,
   "metadata": {},
   "outputs": [
    {
     "data": {
      "text/plain": [
       "0                  NaN\n",
       "1                  NaN\n",
       "2                  NaN\n",
       "3               Luxury\n",
       "4                  NaN\n",
       "             ...      \n",
       "29475    Uncategorized\n",
       "29476           Luxury\n",
       "29477           Luxury\n",
       "29478           Luxury\n",
       "29479              NaN\n",
       "Name: Extras2, Length: 29480, dtype: object"
      ]
     },
     "execution_count": 98,
     "metadata": {},
     "output_type": "execute_result"
    }
   ],
   "source": [
    "df['Extras2'] = df['Extras'].apply(lambda x: categorize_car_extra(x))\n",
    "df['Extras2']"
   ]
  },
  {
   "cell_type": "code",
   "execution_count": 99,
   "metadata": {},
   "outputs": [
    {
     "data": {
      "text/plain": [
       "Luxury           12129\n",
       "Uncategorized     6646\n",
       "NaN               6000\n",
       "Mid-Range         3082\n",
       "Basic             1623\n",
       "Name: Extras2, dtype: int64"
      ]
     },
     "execution_count": 99,
     "metadata": {},
     "output_type": "execute_result"
    }
   ],
   "source": [
    "df['Extras2'].value_counts(dropna=False)"
   ]
  },
  {
   "cell_type": "markdown",
   "metadata": {},
   "source": [
    "** <b>Column name of 'Empty_Weight'<b>"
   ]
  },
  {
   "cell_type": "code",
   "execution_count": 100,
   "metadata": {},
   "outputs": [
    {
     "data": {
      "text/plain": [
       "0                   NaN\n",
       "1                   NaN\n",
       "2                   NaN\n",
       "3                   NaN\n",
       "4        [\\n1,545 kg\\n]\n",
       "              ...      \n",
       "29475    [\\n1,357 kg\\n]\n",
       "29476    [\\n1,356 kg\\n]\n",
       "29477    [\\n1,617 kg\\n]\n",
       "29478    [\\n1,573 kg\\n]\n",
       "29479               NaN\n",
       "Name: Empty_Weight, Length: 29480, dtype: object"
      ]
     },
     "execution_count": 100,
     "metadata": {},
     "output_type": "execute_result"
    }
   ],
   "source": [
    "df['Empty_Weight']"
   ]
  },
  {
   "cell_type": "code",
   "execution_count": 101,
   "metadata": {},
   "outputs": [
    {
     "data": {
      "text/plain": [
       "20758    1460.0\n",
       "20466       NaN\n",
       "1177        NaN\n",
       "6156        NaN\n",
       "17428     950.0\n",
       "Name: Empty_Weight, dtype: float64"
      ]
     },
     "execution_count": 101,
     "metadata": {},
     "output_type": "execute_result"
    }
   ],
   "source": [
    "df['Empty_Weight'] = df['Empty_Weight'].map(lambda x: x[0].strip('\\n kg').replace(',','') if type(x) == list else x).astype(float)\n",
    "df['Empty_Weight'].sample(5)"
   ]
  },
  {
   "cell_type": "markdown",
   "metadata": {},
   "source": [
    "** <b>Column name of 'Model_Code'<b>"
   ]
  },
  {
   "cell_type": "code",
   "execution_count": 102,
   "metadata": {},
   "outputs": [
    {
     "data": {
      "text/plain": [
       "[\\n, 8212/AFJ, \\n]    75\n",
       "[\\n, 1727/AAM, \\n]    64\n",
       "[\\n, 1349/AGI, \\n]    61\n",
       "[\\n, 1889/ABU, \\n]    55\n",
       "[\\n, 7104/AAL, \\n]    53\n",
       "                      ..\n",
       "[\\n, 3333/BJK, \\n]     1\n",
       "[\\n, 3333/BHJ, \\n]     1\n",
       "[\\n, 3333/BPA, \\n]     1\n",
       "[\\n, 3333/BFV, \\n]     1\n",
       "[\\n, 9101/449, \\n]     1\n",
       "Name: Model_Code, Length: 2186, dtype: int64"
      ]
     },
     "execution_count": 102,
     "metadata": {},
     "output_type": "execute_result"
    }
   ],
   "source": [
    "df['Model_Code'].value_counts()"
   ]
  },
  {
   "cell_type": "code",
   "execution_count": 103,
   "metadata": {},
   "outputs": [
    {
     "data": {
      "text/plain": [
       "12212          NaN\n",
       "22010          NaN\n",
       "12424          NaN\n",
       "3746      1844/AKH\n",
       "15504          NaN\n",
       "Name: Model_Code, dtype: object"
      ]
     },
     "execution_count": 103,
     "metadata": {},
     "output_type": "execute_result"
    }
   ],
   "source": [
    "df['Model_Code'] = df['Model_Code'].map(lambda x: x[0].strip('\\n ').replace(',','') if type(x) == list else x)\n",
    "df['Model_Code'].sample(5)"
   ]
  },
  {
   "cell_type": "markdown",
   "metadata": {},
   "source": [
    "** <b>Column name of 'General_Inspection'<b>"
   ]
  },
  {
   "cell_type": "code",
   "execution_count": 104,
   "metadata": {},
   "outputs": [
    {
     "data": {
      "text/plain": [
       "0            NaN\n",
       "1            NaN\n",
       "2            NaN\n",
       "3            NaN\n",
       "4            NaN\n",
       "          ...   \n",
       "29475    08/2023\n",
       "29476        NaN\n",
       "29477        New\n",
       "29478    05/2023\n",
       "29479        NaN\n",
       "Name: General_Inspection, Length: 29480, dtype: object"
      ]
     },
     "execution_count": 104,
     "metadata": {},
     "output_type": "execute_result"
    }
   ],
   "source": [
    "df['General_Inspection']"
   ]
  },
  {
   "cell_type": "markdown",
   "metadata": {},
   "source": [
    "*The errors='coerce' argument handles any invalid or missing dates by converting them to NaT values."
   ]
  },
  {
   "cell_type": "code",
   "execution_count": 105,
   "metadata": {},
   "outputs": [
    {
     "data": {
      "text/plain": [
       "0              NaT\n",
       "1              NaT\n",
       "2              NaT\n",
       "3              NaT\n",
       "4              NaT\n",
       "           ...    \n",
       "29475   2023-08-01\n",
       "29476          NaT\n",
       "29477          NaT\n",
       "29478   2023-05-01\n",
       "29479          NaT\n",
       "Name: General_Inspection, Length: 29480, dtype: datetime64[ns]"
      ]
     },
     "execution_count": 105,
     "metadata": {},
     "output_type": "execute_result"
    }
   ],
   "source": [
    "df['General_Inspection'] = pd.to_datetime(df['General_Inspection'], errors='coerce')\n",
    "df['General_Inspection']"
   ]
  },
  {
   "cell_type": "markdown",
   "metadata": {},
   "source": [
    "** <b>Column name of 'Previous_Owner'<b>"
   ]
  },
  {
   "cell_type": "code",
   "execution_count": 106,
   "metadata": {},
   "outputs": [
    {
     "data": {
      "text/plain": [
       "0                               NaN\n",
       "1                               NaN\n",
       "2                               NaN\n",
       "3                               NaN\n",
       "4                               NaN\n",
       "                    ...            \n",
       "29475                           NaN\n",
       "29476     [[96,000 km, 04/2011], 1]\n",
       "29477                           NaN\n",
       "29478    [[230,047 km, 07/2002], 5]\n",
       "29479                           NaN\n",
       "Name: Previous_Owner, Length: 29480, dtype: object"
      ]
     },
     "execution_count": 106,
     "metadata": {},
     "output_type": "execute_result"
    }
   ],
   "source": [
    "df['Previous_Owner']"
   ]
  },
  {
   "cell_type": "code",
   "execution_count": 107,
   "metadata": {},
   "outputs": [
    {
     "data": {
      "text/plain": [
       "0        120200.0\n",
       "1          5000.0\n",
       "2         18900.0\n",
       "3         18995.0\n",
       "4        197000.0\n",
       "           ...   \n",
       "29475    145000.0\n",
       "29476     96000.0\n",
       "29477     94343.0\n",
       "29478    230047.0\n",
       "29479         NaN\n",
       "Name: Mileage, Length: 29480, dtype: float64"
      ]
     },
     "execution_count": 107,
     "metadata": {},
     "output_type": "execute_result"
    }
   ],
   "source": [
    "df['Mileage']"
   ]
  },
  {
   "cell_type": "code",
   "execution_count": 108,
   "metadata": {},
   "outputs": [
    {
     "data": {
      "text/plain": [
       "0        NaN\n",
       "1        NaN\n",
       "2        NaN\n",
       "3        NaN\n",
       "4        NaN\n",
       "        ... \n",
       "29475    NaN\n",
       "29476    1.0\n",
       "29477    NaN\n",
       "29478    5.0\n",
       "29479    NaN\n",
       "Name: Previous_Owner, Length: 29480, dtype: float64"
      ]
     },
     "execution_count": 108,
     "metadata": {},
     "output_type": "execute_result"
    }
   ],
   "source": [
    "df['Previous_Owner'] = df['Previous_Owner'].apply(lambda x: x[1] if isinstance(x, list) else None).astype(float)\n",
    "df['Previous_Owner']"
   ]
  },
  {
   "cell_type": "markdown",
   "metadata": {},
   "source": [
    "** <b>Column name of 'Upholstery'<b>"
   ]
  },
  {
   "cell_type": "code",
   "execution_count": 109,
   "metadata": {},
   "outputs": [
    {
     "data": {
      "text/plain": [
       "NaN             10870\n",
       "Cloth            8736\n",
       "Full leather     5439\n",
       "Part leather     2835\n",
       "alcantara         764\n",
       "Other             628\n",
       "Velour            208\n",
       "Name: Upholstery, dtype: int64"
      ]
     },
     "execution_count": 109,
     "metadata": {},
     "output_type": "execute_result"
    }
   ],
   "source": [
    "df['Upholstery'].value_counts(dropna=False)"
   ]
  },
  {
   "cell_type": "code",
   "execution_count": 110,
   "metadata": {},
   "outputs": [
    {
     "data": {
      "text/plain": [
       "NaN             10870\n",
       "cloth            8736\n",
       "full_leather     5439\n",
       "part_leather     2835\n",
       "alcantara         764\n",
       "other             628\n",
       "velour            208\n",
       "Name: Upholstery, dtype: int64"
      ]
     },
     "execution_count": 110,
     "metadata": {},
     "output_type": "execute_result"
    }
   ],
   "source": [
    "df['Upholstery'] = df['Upholstery'].str.lower().str.replace(' ', '_')\n",
    "df['Upholstery'].value_counts(dropna=False)"
   ]
  },
  {
   "cell_type": "markdown",
   "metadata": {},
   "source": [
    "** <b>Column name of 'Emission_Class'<b>"
   ]
  },
  {
   "cell_type": "code",
   "execution_count": 111,
   "metadata": {},
   "outputs": [
    {
     "data": {
      "text/plain": [
       "NaN             11621\n",
       "Euro 6           6418\n",
       "Euro 6d-TEMP     3399\n",
       "Euro 6d          2858\n",
       "Euro 5           2389\n",
       "Euro 4           1743\n",
       "Euro 3            523\n",
       "Euro 2            217\n",
       "Euro 1            172\n",
       "Euro 6c           140\n",
       "Name: Emission_Class, dtype: int64"
      ]
     },
     "execution_count": 111,
     "metadata": {},
     "output_type": "execute_result"
    }
   ],
   "source": [
    "df['Emission_Class'].value_counts(dropna=False)"
   ]
  },
  {
   "cell_type": "code",
   "execution_count": 112,
   "metadata": {},
   "outputs": [],
   "source": [
    "emission = {\n",
    "    'Euro 6':'e_60',       \n",
    "    'Euro 6d-TEMP':'e_66',\n",
    "    'Euro 6d':'e_64', \n",
    "    'Euro 5 ':'e_50',\n",
    "    'Euro 4':'e_40',\n",
    "    'Euro 3':'e_30',\n",
    "    'Euro 2':'e_20',\n",
    "    'Euro 1':'e_10,',\n",
    "    'Euro 6c':'e_62'\n",
    "}"
   ]
  },
  {
   "cell_type": "code",
   "execution_count": 113,
   "metadata": {},
   "outputs": [
    {
     "data": {
      "text/plain": [
       "0         NaN\n",
       "1         NaN\n",
       "2         NaN\n",
       "3         NaN\n",
       "4         NaN\n",
       "         ... \n",
       "29475    e_40\n",
       "29476     NaN\n",
       "29477    e_60\n",
       "29478    e_30\n",
       "29479     NaN\n",
       "Name: Emission_Class, Length: 29480, dtype: object"
      ]
     },
     "execution_count": 113,
     "metadata": {},
     "output_type": "execute_result"
    }
   ],
   "source": [
    "df['Emission_Class'] = df['Emission_Class'].map(emission)\n",
    "df['Emission_Class']"
   ]
  },
  {
   "cell_type": "code",
   "execution_count": 114,
   "metadata": {},
   "outputs": [
    {
     "data": {
      "text/plain": [
       "array([nan, 'e_40', 'e_60', 'e_66', 'e_64', 'e_62', 'e_30', 'e_20',\n",
       "       'e_10,'], dtype=object)"
      ]
     },
     "execution_count": 114,
     "metadata": {},
     "output_type": "execute_result"
    }
   ],
   "source": [
    "df['Emission_Class'].unique()"
   ]
  },
  {
   "cell_type": "code",
   "execution_count": 115,
   "metadata": {},
   "outputs": [
    {
     "data": {
      "text/html": [
       "<div>\n",
       "<style scoped>\n",
       "    .dataframe tbody tr th:only-of-type {\n",
       "        vertical-align: middle;\n",
       "    }\n",
       "\n",
       "    .dataframe tbody tr th {\n",
       "        vertical-align: top;\n",
       "    }\n",
       "\n",
       "    .dataframe thead th {\n",
       "        text-align: right;\n",
       "    }\n",
       "</style>\n",
       "<table border=\"1\" class=\"dataframe\">\n",
       "  <thead>\n",
       "    <tr style=\"text-align: right;\">\n",
       "      <th></th>\n",
       "      <th>Make_Model</th>\n",
       "      <th>Short_Description</th>\n",
       "      <th>Make</th>\n",
       "      <th>Model</th>\n",
       "      <th>Location</th>\n",
       "      <th>Price</th>\n",
       "      <th>Body_Type</th>\n",
       "      <th>Type</th>\n",
       "      <th>Doors</th>\n",
       "      <th>Country_Version</th>\n",
       "      <th>...</th>\n",
       "      <th>Taxi_Or_Rental_Car</th>\n",
       "      <th>Availability</th>\n",
       "      <th>Last_Timing_Belt_Change</th>\n",
       "      <th>Electric_Range_(Wltp)</th>\n",
       "      <th>Power_Consumption_(Wltp)</th>\n",
       "      <th>Battery_Ownership</th>\n",
       "      <th>Com_Conv</th>\n",
       "      <th>Ent_Media</th>\n",
       "      <th>Safe_Secure</th>\n",
       "      <th>Extras2</th>\n",
       "    </tr>\n",
       "  </thead>\n",
       "  <tbody>\n",
       "    <tr>\n",
       "      <th>0</th>\n",
       "      <td>Mercedes-Benz A 160</td>\n",
       "      <td>CDi</td>\n",
       "      <td>Mercedes-Benz</td>\n",
       "      <td>A160</td>\n",
       "      <td>ES</td>\n",
       "      <td>16950.0</td>\n",
       "      <td>Compact</td>\n",
       "      <td>Used</td>\n",
       "      <td>5</td>\n",
       "      <td>Spain</td>\n",
       "      <td>...</td>\n",
       "      <td>NaN</td>\n",
       "      <td>NaN</td>\n",
       "      <td>NaN</td>\n",
       "      <td>NaN</td>\n",
       "      <td>NaN</td>\n",
       "      <td>NaN</td>\n",
       "      <td>NaN</td>\n",
       "      <td>NaN</td>\n",
       "      <td>NaN</td>\n",
       "      <td>NaN</td>\n",
       "    </tr>\n",
       "    <tr>\n",
       "      <th>1</th>\n",
       "      <td>Mercedes-Benz EQE 350</td>\n",
       "      <td>350+</td>\n",
       "      <td>Mercedes-Benz</td>\n",
       "      <td>EQE350</td>\n",
       "      <td>ES</td>\n",
       "      <td>80900.0</td>\n",
       "      <td>Compact</td>\n",
       "      <td>Pre-registered</td>\n",
       "      <td>4</td>\n",
       "      <td>Spain</td>\n",
       "      <td>...</td>\n",
       "      <td>NaN</td>\n",
       "      <td>NaN</td>\n",
       "      <td>NaN</td>\n",
       "      <td>NaN</td>\n",
       "      <td>NaN</td>\n",
       "      <td>NaN</td>\n",
       "      <td>NaN</td>\n",
       "      <td>NaN</td>\n",
       "      <td>NaN</td>\n",
       "      <td>NaN</td>\n",
       "    </tr>\n",
       "    <tr>\n",
       "      <th>2</th>\n",
       "      <td>Mercedes-Benz A 45 AMG</td>\n",
       "      <td>S 4Matic+ 8G-DCT</td>\n",
       "      <td>Mercedes-Benz</td>\n",
       "      <td>A45AMG</td>\n",
       "      <td>ES</td>\n",
       "      <td>69900.0</td>\n",
       "      <td>Compact</td>\n",
       "      <td>Used</td>\n",
       "      <td>5</td>\n",
       "      <td>Spain</td>\n",
       "      <td>...</td>\n",
       "      <td>NaN</td>\n",
       "      <td>NaN</td>\n",
       "      <td>NaN</td>\n",
       "      <td>NaN</td>\n",
       "      <td>NaN</td>\n",
       "      <td>NaN</td>\n",
       "      <td>NaN</td>\n",
       "      <td>NaN</td>\n",
       "      <td>NaN</td>\n",
       "      <td>NaN</td>\n",
       "    </tr>\n",
       "    <tr>\n",
       "      <th>3</th>\n",
       "      <td>Mercedes-Benz A 35 AMG</td>\n",
       "      <td>4Matic+ 7G-DCT</td>\n",
       "      <td>Mercedes-Benz</td>\n",
       "      <td>A35AMG</td>\n",
       "      <td>ES</td>\n",
       "      <td>46990.0</td>\n",
       "      <td>Compact</td>\n",
       "      <td>Used</td>\n",
       "      <td>5</td>\n",
       "      <td>Spain</td>\n",
       "      <td>...</td>\n",
       "      <td>NaN</td>\n",
       "      <td>NaN</td>\n",
       "      <td>NaN</td>\n",
       "      <td>NaN</td>\n",
       "      <td>NaN</td>\n",
       "      <td>NaN</td>\n",
       "      <td>Mid-Range</td>\n",
       "      <td>Mid-Range</td>\n",
       "      <td>Mid-Range</td>\n",
       "      <td>Luxury</td>\n",
       "    </tr>\n",
       "    <tr>\n",
       "      <th>4</th>\n",
       "      <td>Mercedes-Benz A 45 AMG</td>\n",
       "      <td>200CDI BE Line 4M 7G-DCT</td>\n",
       "      <td>Mercedes-Benz</td>\n",
       "      <td>A45AMG</td>\n",
       "      <td>ES</td>\n",
       "      <td>16800.0</td>\n",
       "      <td>Compact</td>\n",
       "      <td>Used</td>\n",
       "      <td>5</td>\n",
       "      <td>Spain</td>\n",
       "      <td>...</td>\n",
       "      <td>NaN</td>\n",
       "      <td>NaN</td>\n",
       "      <td>NaN</td>\n",
       "      <td>NaN</td>\n",
       "      <td>NaN</td>\n",
       "      <td>NaN</td>\n",
       "      <td>Uncategorized</td>\n",
       "      <td>Mid-Range</td>\n",
       "      <td>Mid-Range</td>\n",
       "      <td>NaN</td>\n",
       "    </tr>\n",
       "    <tr>\n",
       "      <th>...</th>\n",
       "      <td>...</td>\n",
       "      <td>...</td>\n",
       "      <td>...</td>\n",
       "      <td>...</td>\n",
       "      <td>...</td>\n",
       "      <td>...</td>\n",
       "      <td>...</td>\n",
       "      <td>...</td>\n",
       "      <td>...</td>\n",
       "      <td>...</td>\n",
       "      <td>...</td>\n",
       "      <td>...</td>\n",
       "      <td>...</td>\n",
       "      <td>...</td>\n",
       "      <td>...</td>\n",
       "      <td>...</td>\n",
       "      <td>...</td>\n",
       "      <td>...</td>\n",
       "      <td>...</td>\n",
       "      <td>...</td>\n",
       "      <td>...</td>\n",
       "    </tr>\n",
       "    <tr>\n",
       "      <th>29475</th>\n",
       "      <td>Volvo S40</td>\n",
       "      <td>2.4i Momentum/ Airco/ NAP/ APK/ Elek. Ramen</td>\n",
       "      <td>Volvo</td>\n",
       "      <td>S40</td>\n",
       "      <td>NL</td>\n",
       "      <td>5499.0</td>\n",
       "      <td>Sedan</td>\n",
       "      <td>Used</td>\n",
       "      <td>4</td>\n",
       "      <td>NaN</td>\n",
       "      <td>...</td>\n",
       "      <td>NaN</td>\n",
       "      <td>NaN</td>\n",
       "      <td>NaN</td>\n",
       "      <td>NaN</td>\n",
       "      <td>NaN</td>\n",
       "      <td>NaN</td>\n",
       "      <td>Mid-Range</td>\n",
       "      <td>Mid-Range</td>\n",
       "      <td>Mid-Range</td>\n",
       "      <td>Uncategorized</td>\n",
       "    </tr>\n",
       "    <tr>\n",
       "      <th>29476</th>\n",
       "      <td>Volvo C30</td>\n",
       "      <td>1.6 D DRIVe Start/Stop R-design</td>\n",
       "      <td>Volvo</td>\n",
       "      <td>C30</td>\n",
       "      <td>BE</td>\n",
       "      <td>7300.0</td>\n",
       "      <td>Sedan</td>\n",
       "      <td>Used</td>\n",
       "      <td>3</td>\n",
       "      <td>Belgium</td>\n",
       "      <td>...</td>\n",
       "      <td>NaN</td>\n",
       "      <td>NaN</td>\n",
       "      <td>NaN</td>\n",
       "      <td>NaN</td>\n",
       "      <td>NaN</td>\n",
       "      <td>NaN</td>\n",
       "      <td>Mid-Range</td>\n",
       "      <td>Mid-Range</td>\n",
       "      <td>Mid-Range</td>\n",
       "      <td>Luxury</td>\n",
       "    </tr>\n",
       "    <tr>\n",
       "      <th>29477</th>\n",
       "      <td>Volvo S90</td>\n",
       "      <td>T5 AUT(8) MOMENTUM BUSINESS SCHUIFDAK 360GR CA...</td>\n",
       "      <td>Volvo</td>\n",
       "      <td>S90</td>\n",
       "      <td>NL</td>\n",
       "      <td>29900.0</td>\n",
       "      <td>Sedan</td>\n",
       "      <td>Used</td>\n",
       "      <td>4</td>\n",
       "      <td>NaN</td>\n",
       "      <td>...</td>\n",
       "      <td>NaN</td>\n",
       "      <td>NaN</td>\n",
       "      <td>NaN</td>\n",
       "      <td>NaN</td>\n",
       "      <td>NaN</td>\n",
       "      <td>NaN</td>\n",
       "      <td>Mid-Range</td>\n",
       "      <td>Mid-Range</td>\n",
       "      <td>Luxury</td>\n",
       "      <td>Luxury</td>\n",
       "    </tr>\n",
       "    <tr>\n",
       "      <th>29478</th>\n",
       "      <td>Volvo S80</td>\n",
       "      <td>2.9 Executive G. NETTE AUTO! LEER! NAVI! CRUIS...</td>\n",
       "      <td>Volvo</td>\n",
       "      <td>S80</td>\n",
       "      <td>NL</td>\n",
       "      <td>4440.0</td>\n",
       "      <td>Sedan</td>\n",
       "      <td>Used</td>\n",
       "      <td>4</td>\n",
       "      <td>NaN</td>\n",
       "      <td>...</td>\n",
       "      <td>NaN</td>\n",
       "      <td>NaN</td>\n",
       "      <td>NaN</td>\n",
       "      <td>NaN</td>\n",
       "      <td>NaN</td>\n",
       "      <td>NaN</td>\n",
       "      <td>Mid-Range</td>\n",
       "      <td>Mid-Range</td>\n",
       "      <td>Mid-Range</td>\n",
       "      <td>Luxury</td>\n",
       "    </tr>\n",
       "    <tr>\n",
       "      <th>29479</th>\n",
       "      <td>NaN</td>\n",
       "      <td>NaN</td>\n",
       "      <td>NaN</td>\n",
       "      <td>NaN</td>\n",
       "      <td>NaN</td>\n",
       "      <td>NaN</td>\n",
       "      <td>NaN</td>\n",
       "      <td>NaN</td>\n",
       "      <td>NaN</td>\n",
       "      <td>NaN</td>\n",
       "      <td>...</td>\n",
       "      <td>NaN</td>\n",
       "      <td>NaN</td>\n",
       "      <td>NaN</td>\n",
       "      <td>NaN</td>\n",
       "      <td>NaN</td>\n",
       "      <td>NaN</td>\n",
       "      <td>NaN</td>\n",
       "      <td>NaN</td>\n",
       "      <td>NaN</td>\n",
       "      <td>NaN</td>\n",
       "    </tr>\n",
       "  </tbody>\n",
       "</table>\n",
       "<p>29480 rows × 62 columns</p>\n",
       "</div>"
      ],
      "text/plain": [
       "                   Make_Model  \\\n",
       "0         Mercedes-Benz A 160   \n",
       "1       Mercedes-Benz EQE 350   \n",
       "2      Mercedes-Benz A 45 AMG   \n",
       "3      Mercedes-Benz A 35 AMG   \n",
       "4      Mercedes-Benz A 45 AMG   \n",
       "...                       ...   \n",
       "29475               Volvo S40   \n",
       "29476               Volvo C30   \n",
       "29477               Volvo S90   \n",
       "29478               Volvo S80   \n",
       "29479                     NaN   \n",
       "\n",
       "                                       Short_Description           Make  \\\n",
       "0                                                    CDi  Mercedes-Benz   \n",
       "1                                                   350+  Mercedes-Benz   \n",
       "2                                       S 4Matic+ 8G-DCT  Mercedes-Benz   \n",
       "3                                         4Matic+ 7G-DCT  Mercedes-Benz   \n",
       "4                               200CDI BE Line 4M 7G-DCT  Mercedes-Benz   \n",
       "...                                                  ...            ...   \n",
       "29475        2.4i Momentum/ Airco/ NAP/ APK/ Elek. Ramen          Volvo   \n",
       "29476                    1.6 D DRIVe Start/Stop R-design          Volvo   \n",
       "29477  T5 AUT(8) MOMENTUM BUSINESS SCHUIFDAK 360GR CA...          Volvo   \n",
       "29478  2.9 Executive G. NETTE AUTO! LEER! NAVI! CRUIS...          Volvo   \n",
       "29479                                                NaN            NaN   \n",
       "\n",
       "        Model Location    Price  Body_Type              Type Doors  \\\n",
       "0        A160       ES  16950.0   Compact              Used     5    \n",
       "1      EQE350       ES  80900.0   Compact    Pre-registered     4    \n",
       "2      A45AMG       ES  69900.0   Compact              Used     5    \n",
       "3      A35AMG       ES  46990.0   Compact              Used     5    \n",
       "4      A45AMG       ES  16800.0   Compact              Used     5    \n",
       "...       ...      ...      ...        ...               ...   ...   \n",
       "29475     S40       NL   5499.0     Sedan              Used     4    \n",
       "29476     C30       BE   7300.0     Sedan              Used     3    \n",
       "29477     S90       NL  29900.0     Sedan              Used     4    \n",
       "29478     S80       NL   4440.0     Sedan              Used     4    \n",
       "29479     NaN      NaN      NaN        NaN               NaN   NaN   \n",
       "\n",
       "      Country_Version  ... Taxi_Or_Rental_Car Availability  \\\n",
       "0              Spain   ...                NaN          NaN   \n",
       "1              Spain   ...                NaN          NaN   \n",
       "2              Spain   ...                NaN          NaN   \n",
       "3              Spain   ...                NaN          NaN   \n",
       "4              Spain   ...                NaN          NaN   \n",
       "...               ...  ...                ...          ...   \n",
       "29475             NaN  ...                NaN          NaN   \n",
       "29476        Belgium   ...                NaN          NaN   \n",
       "29477             NaN  ...                NaN          NaN   \n",
       "29478             NaN  ...                NaN          NaN   \n",
       "29479             NaN  ...                NaN          NaN   \n",
       "\n",
       "       Last_Timing_Belt_Change Electric_Range_(Wltp) Power_Consumption_(Wltp)  \\\n",
       "0                          NaN                   NaN                      NaN   \n",
       "1                          NaN                   NaN                      NaN   \n",
       "2                          NaN                   NaN                      NaN   \n",
       "3                          NaN                   NaN                      NaN   \n",
       "4                          NaN                   NaN                      NaN   \n",
       "...                        ...                   ...                      ...   \n",
       "29475                      NaN                   NaN                      NaN   \n",
       "29476                      NaN                   NaN                      NaN   \n",
       "29477                      NaN                   NaN                      NaN   \n",
       "29478                      NaN                   NaN                      NaN   \n",
       "29479                      NaN                   NaN                      NaN   \n",
       "\n",
       "      Battery_Ownership       Com_Conv  Ent_Media Safe_Secure        Extras2  \n",
       "0                   NaN            NaN        NaN         NaN            NaN  \n",
       "1                   NaN            NaN        NaN         NaN            NaN  \n",
       "2                   NaN            NaN        NaN         NaN            NaN  \n",
       "3                   NaN      Mid-Range  Mid-Range   Mid-Range         Luxury  \n",
       "4                   NaN  Uncategorized  Mid-Range   Mid-Range            NaN  \n",
       "...                 ...            ...        ...         ...            ...  \n",
       "29475               NaN      Mid-Range  Mid-Range   Mid-Range  Uncategorized  \n",
       "29476               NaN      Mid-Range  Mid-Range   Mid-Range         Luxury  \n",
       "29477               NaN      Mid-Range  Mid-Range      Luxury         Luxury  \n",
       "29478               NaN      Mid-Range  Mid-Range   Mid-Range         Luxury  \n",
       "29479               NaN            NaN        NaN         NaN            NaN  \n",
       "\n",
       "[29480 rows x 62 columns]"
      ]
     },
     "execution_count": 115,
     "metadata": {},
     "output_type": "execute_result"
    }
   ],
   "source": [
    "df"
   ]
  },
  {
   "cell_type": "code",
   "execution_count": 116,
   "metadata": {
    "scrolled": true
   },
   "outputs": [
    {
     "data": {
      "text/plain": [
       "Index(['Make_Model', 'Short_Description', 'Make', 'Model', 'Location', 'Price',\n",
       "       'Body_Type', 'Type', 'Doors', 'Country_Version', 'Offer_Number',\n",
       "       'Warranty', 'Mileage', 'First_Registration', 'Gearbox', 'Fuel_Type',\n",
       "       'Colour', 'Paint', 'Desc', 'Seller', 'Seats', 'Power', 'Engine_Size',\n",
       "       'Gears', 'Co₂-Emissions', 'Manufacturer_Colour', 'Drivetrain',\n",
       "       'Cylinders', 'Fuel_Consumption', 'Comfort_&_Convenience',\n",
       "       'Entertainment_&_Media', 'Safety_&_Security', 'Extras', 'Empty_Weight',\n",
       "       'Model_Code', 'General_Inspection', 'Last_Service',\n",
       "       'Full_Service_History', 'Non-Smoker_Vehicle', 'Emission_Class',\n",
       "       'Emissions_Sticker', 'Upholstery_Colour', 'Upholstery',\n",
       "       'Production_Date', 'Previous_Owner', 'Other_Fuel_Types',\n",
       "       'Power_Consumption', 'Energy_Efficiency_Class', 'Co₂-Efficiency',\n",
       "       'Fuel_Consumption_(Wltp)', 'Co₂-Emissions_(Wltp)', 'Available_From',\n",
       "       'Taxi_Or_Rental_Car', 'Availability', 'Last_Timing_Belt_Change',\n",
       "       'Electric_Range_(Wltp)', 'Power_Consumption_(Wltp)',\n",
       "       'Battery_Ownership', 'Com_Conv', 'Ent_Media', 'Safe_Secure', 'Extras2'],\n",
       "      dtype='object')"
      ]
     },
     "execution_count": 116,
     "metadata": {},
     "output_type": "execute_result"
    }
   ],
   "source": [
    "df.columns"
   ]
  },
  {
   "cell_type": "markdown",
   "metadata": {},
   "source": [
    "*In above, I forgotto delete 4 column which are name 'Comfort_&_Convenience',\n",
    "       'Entertainment_&_Media', 'Safety_&_Security', 'Extras'\\n\n",
    "       \n",
    "*We're going to delete them"
   ]
  },
  {
   "cell_type": "code",
   "execution_count": 117,
   "metadata": {},
   "outputs": [],
   "source": [
    "df.drop(columns=['Comfort_&_Convenience', 'Entertainment_&_Media','Safety_&_Security', 'Extras'], inplace=True)"
   ]
  },
  {
   "cell_type": "code",
   "execution_count": 118,
   "metadata": {},
   "outputs": [
    {
     "data": {
      "text/plain": [
       "(29480, 58)"
      ]
     },
     "execution_count": 118,
     "metadata": {},
     "output_type": "execute_result"
    }
   ],
   "source": [
    "df.shape"
   ]
  },
  {
   "cell_type": "markdown",
   "metadata": {
    "id": "uGeKSdYds1MD"
   },
   "source": [
    "# PART- 2 `( Handling With Missing Vales )`"
   ]
  },
  {
   "cell_type": "markdown",
   "metadata": {},
   "source": [
    "## <p style=\"background-color:yellow; font-family:newtimeroman; color:blue; font-size:150%; text-align:center; border-radius:10px 10px;\">Looking for percentage of null values</p> "
   ]
  },
  {
   "cell_type": "markdown",
   "metadata": {},
   "source": [
    "* If any column's percentage is over 70 we can drop that column\n",
    "* If any column's percentage is betseen 50-70 we should try to fill that column, if we can't fill or \n",
    "if that colum is useless drop it\n",
    "* If any column's percentage is below 50 we can't drop that column\n"
   ]
  },
  {
   "cell_type": "code",
   "execution_count": 119,
   "metadata": {},
   "outputs": [
    {
     "data": {
      "text/plain": [
       "Make_Model                    850\n",
       "Short_Description             850\n",
       "Make                          850\n",
       "Model                         850\n",
       "Location                      850\n",
       "Price                         850\n",
       "Body_Type                     850\n",
       "Type                          850\n",
       "Doors                        1209\n",
       "Country_Version             12591\n",
       "Offer_Number                 6380\n",
       "Warranty                    13696\n",
       "Mileage                       851\n",
       "First_Registration            852\n",
       "Gearbox                      1098\n",
       "Fuel_Type                    2733\n",
       "Colour                       2574\n",
       "Paint                       14985\n",
       "Desc                         1433\n",
       "Seller                        850\n",
       "Seats                        3975\n",
       "Power                        1422\n",
       "Engine_Size                  2253\n",
       "Gears                       10526\n",
       "Co₂-Emissions               10886\n",
       "Manufacturer_Colour          7693\n",
       "Drivetrain                  12587\n",
       "Cylinders                   10628\n",
       "Fuel_Consumption             6095\n",
       "Empty_Weight                11722\n",
       "Model_Code                  21113\n",
       "General_Inspection          23109\n",
       "Last_Service                27477\n",
       "Full_Service_History        16915\n",
       "Non-Smoker_Vehicle          17886\n",
       "Emission_Class              14010\n",
       "Emissions_Sticker           20066\n",
       "Upholstery_Colour           14911\n",
       "Upholstery                  10870\n",
       "Production_Date             23572\n",
       "Previous_Owner              15465\n",
       "Other_Fuel_Types            27167\n",
       "Power_Consumption           28965\n",
       "Energy_Efficiency_Class     21676\n",
       "Co₂-Efficiency              21676\n",
       "Fuel_Consumption_(Wltp)     29380\n",
       "Co₂-Emissions_(Wltp)        29364\n",
       "Available_From              29087\n",
       "Taxi_Or_Rental_Car          29058\n",
       "Availability                29179\n",
       "Last_Timing_Belt_Change     28908\n",
       "Electric_Range_(Wltp)       29464\n",
       "Power_Consumption_(Wltp)    29464\n",
       "Battery_Ownership           29473\n",
       "Com_Conv                     4047\n",
       "Ent_Media                    5836\n",
       "Safe_Secure                  4065\n",
       "Extras2                      6000\n",
       "dtype: int64"
      ]
     },
     "execution_count": 119,
     "metadata": {},
     "output_type": "execute_result"
    }
   ],
   "source": [
    "df.isna().sum()"
   ]
  },
  {
   "cell_type": "code",
   "execution_count": 120,
   "metadata": {},
   "outputs": [
    {
     "data": {
      "text/plain": [
       "Make_Model                   2.883311\n",
       "Short_Description            2.883311\n",
       "Make                         2.883311\n",
       "Model                        2.883311\n",
       "Location                     2.883311\n",
       "Price                        2.883311\n",
       "Body_Type                    2.883311\n",
       "Type                         2.883311\n",
       "Doors                        4.101085\n",
       "Country_Version             42.710312\n",
       "Offer_Number                21.641791\n",
       "Warranty                    46.458616\n",
       "Mileage                      2.886703\n",
       "First_Registration           2.890095\n",
       "Gearbox                      3.724559\n",
       "Fuel_Type                    9.270692\n",
       "Colour                       8.731343\n",
       "Paint                       50.831072\n",
       "Desc                         4.860923\n",
       "Seller                       2.883311\n",
       "Seats                       13.483718\n",
       "Power                        4.823609\n",
       "Engine_Size                  7.642469\n",
       "Gears                       35.705563\n",
       "Co₂-Emissions               36.926730\n",
       "Manufacturer_Colour         26.095658\n",
       "Drivetrain                  42.696744\n",
       "Cylinders                   36.051560\n",
       "Fuel_Consumption            20.675034\n",
       "Empty_Weight                39.762551\n",
       "Model_Code                  71.618046\n",
       "General_Inspection          78.388738\n",
       "Last_Service                93.205563\n",
       "Full_Service_History        57.377883\n",
       "Non-Smoker_Vehicle          60.671642\n",
       "Emission_Class              47.523745\n",
       "Emissions_Sticker           68.066486\n",
       "Upholstery_Colour           50.580054\n",
       "Upholstery                  36.872456\n",
       "Production_Date             79.959294\n",
       "Previous_Owner              52.459294\n",
       "Other_Fuel_Types            92.154003\n",
       "Power_Consumption           98.253053\n",
       "Energy_Efficiency_Class     73.527815\n",
       "Co₂-Efficiency              73.527815\n",
       "Fuel_Consumption_(Wltp)     99.660787\n",
       "Co₂-Emissions_(Wltp)        99.606513\n",
       "Available_From              98.666893\n",
       "Taxi_Or_Rental_Car          98.568521\n",
       "Availability                98.978969\n",
       "Last_Timing_Belt_Change     98.059701\n",
       "Electric_Range_(Wltp)       99.945726\n",
       "Power_Consumption_(Wltp)    99.945726\n",
       "Battery_Ownership           99.976255\n",
       "Com_Conv                    13.727951\n",
       "Ent_Media                   19.796472\n",
       "Safe_Secure                 13.789009\n",
       "Extras2                     20.352782\n",
       "dtype: float64"
      ]
     },
     "execution_count": 120,
     "metadata": {},
     "output_type": "execute_result"
    }
   ],
   "source": [
    "null_percentage = (df.isna().sum()/len(df))*100\n",
    "null_percentage"
   ]
  },
  {
   "cell_type": "code",
   "execution_count": 121,
   "metadata": {
    "scrolled": false
   },
   "outputs": [
    {
     "data": {
      "text/html": [
       "<div>\n",
       "<style scoped>\n",
       "    .dataframe tbody tr th:only-of-type {\n",
       "        vertical-align: middle;\n",
       "    }\n",
       "\n",
       "    .dataframe tbody tr th {\n",
       "        vertical-align: top;\n",
       "    }\n",
       "\n",
       "    .dataframe thead th {\n",
       "        text-align: right;\n",
       "    }\n",
       "</style>\n",
       "<table border=\"1\" class=\"dataframe\">\n",
       "  <thead>\n",
       "    <tr style=\"text-align: right;\">\n",
       "      <th></th>\n",
       "      <th>Make_Model</th>\n",
       "      <th>Short_Description</th>\n",
       "      <th>Make</th>\n",
       "      <th>Model</th>\n",
       "      <th>Location</th>\n",
       "      <th>Price</th>\n",
       "      <th>Body_Type</th>\n",
       "      <th>Type</th>\n",
       "      <th>Doors</th>\n",
       "      <th>Country_Version</th>\n",
       "      <th>...</th>\n",
       "      <th>Empty_Weight</th>\n",
       "      <th>Full_Service_History</th>\n",
       "      <th>Emission_Class</th>\n",
       "      <th>Upholstery_Colour</th>\n",
       "      <th>Upholstery</th>\n",
       "      <th>Previous_Owner</th>\n",
       "      <th>Com_Conv</th>\n",
       "      <th>Ent_Media</th>\n",
       "      <th>Safe_Secure</th>\n",
       "      <th>Extras2</th>\n",
       "    </tr>\n",
       "  </thead>\n",
       "  <tbody>\n",
       "    <tr>\n",
       "      <th>0</th>\n",
       "      <td>Mercedes-Benz A 160</td>\n",
       "      <td>CDi</td>\n",
       "      <td>Mercedes-Benz</td>\n",
       "      <td>A160</td>\n",
       "      <td>ES</td>\n",
       "      <td>16950.0</td>\n",
       "      <td>Compact</td>\n",
       "      <td>Used</td>\n",
       "      <td>5</td>\n",
       "      <td>Spain</td>\n",
       "      <td>...</td>\n",
       "      <td>NaN</td>\n",
       "      <td>NaN</td>\n",
       "      <td>NaN</td>\n",
       "      <td>NaN</td>\n",
       "      <td>NaN</td>\n",
       "      <td>NaN</td>\n",
       "      <td>NaN</td>\n",
       "      <td>NaN</td>\n",
       "      <td>NaN</td>\n",
       "      <td>NaN</td>\n",
       "    </tr>\n",
       "    <tr>\n",
       "      <th>1</th>\n",
       "      <td>Mercedes-Benz EQE 350</td>\n",
       "      <td>350+</td>\n",
       "      <td>Mercedes-Benz</td>\n",
       "      <td>EQE350</td>\n",
       "      <td>ES</td>\n",
       "      <td>80900.0</td>\n",
       "      <td>Compact</td>\n",
       "      <td>Pre-registered</td>\n",
       "      <td>4</td>\n",
       "      <td>Spain</td>\n",
       "      <td>...</td>\n",
       "      <td>NaN</td>\n",
       "      <td>NaN</td>\n",
       "      <td>NaN</td>\n",
       "      <td>NaN</td>\n",
       "      <td>NaN</td>\n",
       "      <td>NaN</td>\n",
       "      <td>NaN</td>\n",
       "      <td>NaN</td>\n",
       "      <td>NaN</td>\n",
       "      <td>NaN</td>\n",
       "    </tr>\n",
       "    <tr>\n",
       "      <th>2</th>\n",
       "      <td>Mercedes-Benz A 45 AMG</td>\n",
       "      <td>S 4Matic+ 8G-DCT</td>\n",
       "      <td>Mercedes-Benz</td>\n",
       "      <td>A45AMG</td>\n",
       "      <td>ES</td>\n",
       "      <td>69900.0</td>\n",
       "      <td>Compact</td>\n",
       "      <td>Used</td>\n",
       "      <td>5</td>\n",
       "      <td>Spain</td>\n",
       "      <td>...</td>\n",
       "      <td>NaN</td>\n",
       "      <td>NaN</td>\n",
       "      <td>NaN</td>\n",
       "      <td>NaN</td>\n",
       "      <td>NaN</td>\n",
       "      <td>NaN</td>\n",
       "      <td>NaN</td>\n",
       "      <td>NaN</td>\n",
       "      <td>NaN</td>\n",
       "      <td>NaN</td>\n",
       "    </tr>\n",
       "    <tr>\n",
       "      <th>3</th>\n",
       "      <td>Mercedes-Benz A 35 AMG</td>\n",
       "      <td>4Matic+ 7G-DCT</td>\n",
       "      <td>Mercedes-Benz</td>\n",
       "      <td>A35AMG</td>\n",
       "      <td>ES</td>\n",
       "      <td>46990.0</td>\n",
       "      <td>Compact</td>\n",
       "      <td>Used</td>\n",
       "      <td>5</td>\n",
       "      <td>Spain</td>\n",
       "      <td>...</td>\n",
       "      <td>NaN</td>\n",
       "      <td>NaN</td>\n",
       "      <td>NaN</td>\n",
       "      <td>NaN</td>\n",
       "      <td>NaN</td>\n",
       "      <td>NaN</td>\n",
       "      <td>Mid-Range</td>\n",
       "      <td>Mid-Range</td>\n",
       "      <td>Mid-Range</td>\n",
       "      <td>Luxury</td>\n",
       "    </tr>\n",
       "    <tr>\n",
       "      <th>4</th>\n",
       "      <td>Mercedes-Benz A 45 AMG</td>\n",
       "      <td>200CDI BE Line 4M 7G-DCT</td>\n",
       "      <td>Mercedes-Benz</td>\n",
       "      <td>A45AMG</td>\n",
       "      <td>ES</td>\n",
       "      <td>16800.0</td>\n",
       "      <td>Compact</td>\n",
       "      <td>Used</td>\n",
       "      <td>5</td>\n",
       "      <td>Spain</td>\n",
       "      <td>...</td>\n",
       "      <td>1545.0</td>\n",
       "      <td>NaN</td>\n",
       "      <td>NaN</td>\n",
       "      <td>NaN</td>\n",
       "      <td>NaN</td>\n",
       "      <td>NaN</td>\n",
       "      <td>Uncategorized</td>\n",
       "      <td>Mid-Range</td>\n",
       "      <td>Mid-Range</td>\n",
       "      <td>NaN</td>\n",
       "    </tr>\n",
       "    <tr>\n",
       "      <th>...</th>\n",
       "      <td>...</td>\n",
       "      <td>...</td>\n",
       "      <td>...</td>\n",
       "      <td>...</td>\n",
       "      <td>...</td>\n",
       "      <td>...</td>\n",
       "      <td>...</td>\n",
       "      <td>...</td>\n",
       "      <td>...</td>\n",
       "      <td>...</td>\n",
       "      <td>...</td>\n",
       "      <td>...</td>\n",
       "      <td>...</td>\n",
       "      <td>...</td>\n",
       "      <td>...</td>\n",
       "      <td>...</td>\n",
       "      <td>...</td>\n",
       "      <td>...</td>\n",
       "      <td>...</td>\n",
       "      <td>...</td>\n",
       "      <td>...</td>\n",
       "    </tr>\n",
       "    <tr>\n",
       "      <th>29475</th>\n",
       "      <td>Volvo S40</td>\n",
       "      <td>2.4i Momentum/ Airco/ NAP/ APK/ Elek. Ramen</td>\n",
       "      <td>Volvo</td>\n",
       "      <td>S40</td>\n",
       "      <td>NL</td>\n",
       "      <td>5499.0</td>\n",
       "      <td>Sedan</td>\n",
       "      <td>Used</td>\n",
       "      <td>4</td>\n",
       "      <td>NaN</td>\n",
       "      <td>...</td>\n",
       "      <td>1357.0</td>\n",
       "      <td>Yes</td>\n",
       "      <td>e_40</td>\n",
       "      <td>NaN</td>\n",
       "      <td>NaN</td>\n",
       "      <td>NaN</td>\n",
       "      <td>Mid-Range</td>\n",
       "      <td>Mid-Range</td>\n",
       "      <td>Mid-Range</td>\n",
       "      <td>Uncategorized</td>\n",
       "    </tr>\n",
       "    <tr>\n",
       "      <th>29476</th>\n",
       "      <td>Volvo C30</td>\n",
       "      <td>1.6 D DRIVe Start/Stop R-design</td>\n",
       "      <td>Volvo</td>\n",
       "      <td>C30</td>\n",
       "      <td>BE</td>\n",
       "      <td>7300.0</td>\n",
       "      <td>Sedan</td>\n",
       "      <td>Used</td>\n",
       "      <td>3</td>\n",
       "      <td>Belgium</td>\n",
       "      <td>...</td>\n",
       "      <td>1356.0</td>\n",
       "      <td>Yes</td>\n",
       "      <td>NaN</td>\n",
       "      <td>Black</td>\n",
       "      <td>NaN</td>\n",
       "      <td>1.0</td>\n",
       "      <td>Mid-Range</td>\n",
       "      <td>Mid-Range</td>\n",
       "      <td>Mid-Range</td>\n",
       "      <td>Luxury</td>\n",
       "    </tr>\n",
       "    <tr>\n",
       "      <th>29477</th>\n",
       "      <td>Volvo S90</td>\n",
       "      <td>T5 AUT(8) MOMENTUM BUSINESS SCHUIFDAK 360GR CA...</td>\n",
       "      <td>Volvo</td>\n",
       "      <td>S90</td>\n",
       "      <td>NL</td>\n",
       "      <td>29900.0</td>\n",
       "      <td>Sedan</td>\n",
       "      <td>Used</td>\n",
       "      <td>4</td>\n",
       "      <td>NaN</td>\n",
       "      <td>...</td>\n",
       "      <td>1617.0</td>\n",
       "      <td>Yes</td>\n",
       "      <td>e_60</td>\n",
       "      <td>Other</td>\n",
       "      <td>full_leather</td>\n",
       "      <td>NaN</td>\n",
       "      <td>Mid-Range</td>\n",
       "      <td>Mid-Range</td>\n",
       "      <td>Luxury</td>\n",
       "      <td>Luxury</td>\n",
       "    </tr>\n",
       "    <tr>\n",
       "      <th>29478</th>\n",
       "      <td>Volvo S80</td>\n",
       "      <td>2.9 Executive G. NETTE AUTO! LEER! NAVI! CRUIS...</td>\n",
       "      <td>Volvo</td>\n",
       "      <td>S80</td>\n",
       "      <td>NL</td>\n",
       "      <td>4440.0</td>\n",
       "      <td>Sedan</td>\n",
       "      <td>Used</td>\n",
       "      <td>4</td>\n",
       "      <td>NaN</td>\n",
       "      <td>...</td>\n",
       "      <td>1573.0</td>\n",
       "      <td>NaN</td>\n",
       "      <td>e_30</td>\n",
       "      <td>Beige</td>\n",
       "      <td>full_leather</td>\n",
       "      <td>5.0</td>\n",
       "      <td>Mid-Range</td>\n",
       "      <td>Mid-Range</td>\n",
       "      <td>Mid-Range</td>\n",
       "      <td>Luxury</td>\n",
       "    </tr>\n",
       "    <tr>\n",
       "      <th>29479</th>\n",
       "      <td>NaN</td>\n",
       "      <td>NaN</td>\n",
       "      <td>NaN</td>\n",
       "      <td>NaN</td>\n",
       "      <td>NaN</td>\n",
       "      <td>NaN</td>\n",
       "      <td>NaN</td>\n",
       "      <td>NaN</td>\n",
       "      <td>NaN</td>\n",
       "      <td>NaN</td>\n",
       "      <td>...</td>\n",
       "      <td>NaN</td>\n",
       "      <td>NaN</td>\n",
       "      <td>NaN</td>\n",
       "      <td>NaN</td>\n",
       "      <td>NaN</td>\n",
       "      <td>NaN</td>\n",
       "      <td>NaN</td>\n",
       "      <td>NaN</td>\n",
       "      <td>NaN</td>\n",
       "      <td>NaN</td>\n",
       "    </tr>\n",
       "  </tbody>\n",
       "</table>\n",
       "<p>29480 rows × 39 columns</p>\n",
       "</div>"
      ],
      "text/plain": [
       "                   Make_Model  \\\n",
       "0         Mercedes-Benz A 160   \n",
       "1       Mercedes-Benz EQE 350   \n",
       "2      Mercedes-Benz A 45 AMG   \n",
       "3      Mercedes-Benz A 35 AMG   \n",
       "4      Mercedes-Benz A 45 AMG   \n",
       "...                       ...   \n",
       "29475               Volvo S40   \n",
       "29476               Volvo C30   \n",
       "29477               Volvo S90   \n",
       "29478               Volvo S80   \n",
       "29479                     NaN   \n",
       "\n",
       "                                       Short_Description           Make  \\\n",
       "0                                                    CDi  Mercedes-Benz   \n",
       "1                                                   350+  Mercedes-Benz   \n",
       "2                                       S 4Matic+ 8G-DCT  Mercedes-Benz   \n",
       "3                                         4Matic+ 7G-DCT  Mercedes-Benz   \n",
       "4                               200CDI BE Line 4M 7G-DCT  Mercedes-Benz   \n",
       "...                                                  ...            ...   \n",
       "29475        2.4i Momentum/ Airco/ NAP/ APK/ Elek. Ramen          Volvo   \n",
       "29476                    1.6 D DRIVe Start/Stop R-design          Volvo   \n",
       "29477  T5 AUT(8) MOMENTUM BUSINESS SCHUIFDAK 360GR CA...          Volvo   \n",
       "29478  2.9 Executive G. NETTE AUTO! LEER! NAVI! CRUIS...          Volvo   \n",
       "29479                                                NaN            NaN   \n",
       "\n",
       "        Model Location    Price  Body_Type              Type Doors  \\\n",
       "0        A160       ES  16950.0   Compact              Used     5    \n",
       "1      EQE350       ES  80900.0   Compact    Pre-registered     4    \n",
       "2      A45AMG       ES  69900.0   Compact              Used     5    \n",
       "3      A35AMG       ES  46990.0   Compact              Used     5    \n",
       "4      A45AMG       ES  16800.0   Compact              Used     5    \n",
       "...       ...      ...      ...        ...               ...   ...   \n",
       "29475     S40       NL   5499.0     Sedan              Used     4    \n",
       "29476     C30       BE   7300.0     Sedan              Used     3    \n",
       "29477     S90       NL  29900.0     Sedan              Used     4    \n",
       "29478     S80       NL   4440.0     Sedan              Used     4    \n",
       "29479     NaN      NaN      NaN        NaN               NaN   NaN   \n",
       "\n",
       "      Country_Version  ... Empty_Weight Full_Service_History  Emission_Class  \\\n",
       "0              Spain   ...          NaN                  NaN             NaN   \n",
       "1              Spain   ...          NaN                  NaN             NaN   \n",
       "2              Spain   ...          NaN                  NaN             NaN   \n",
       "3              Spain   ...          NaN                  NaN             NaN   \n",
       "4              Spain   ...       1545.0                  NaN             NaN   \n",
       "...               ...  ...          ...                  ...             ...   \n",
       "29475             NaN  ...       1357.0                  Yes            e_40   \n",
       "29476        Belgium   ...       1356.0                  Yes             NaN   \n",
       "29477             NaN  ...       1617.0                  Yes            e_60   \n",
       "29478             NaN  ...       1573.0                  NaN            e_30   \n",
       "29479             NaN  ...          NaN                  NaN             NaN   \n",
       "\n",
       "      Upholstery_Colour    Upholstery Previous_Owner       Com_Conv  \\\n",
       "0                   NaN           NaN            NaN            NaN   \n",
       "1                   NaN           NaN            NaN            NaN   \n",
       "2                   NaN           NaN            NaN            NaN   \n",
       "3                   NaN           NaN            NaN      Mid-Range   \n",
       "4                   NaN           NaN            NaN  Uncategorized   \n",
       "...                 ...           ...            ...            ...   \n",
       "29475               NaN           NaN            NaN      Mid-Range   \n",
       "29476             Black           NaN            1.0      Mid-Range   \n",
       "29477             Other  full_leather            NaN      Mid-Range   \n",
       "29478             Beige  full_leather            5.0      Mid-Range   \n",
       "29479               NaN           NaN            NaN            NaN   \n",
       "\n",
       "       Ent_Media Safe_Secure        Extras2  \n",
       "0            NaN         NaN            NaN  \n",
       "1            NaN         NaN            NaN  \n",
       "2            NaN         NaN            NaN  \n",
       "3      Mid-Range   Mid-Range         Luxury  \n",
       "4      Mid-Range   Mid-Range            NaN  \n",
       "...          ...         ...            ...  \n",
       "29475  Mid-Range   Mid-Range  Uncategorized  \n",
       "29476  Mid-Range   Mid-Range         Luxury  \n",
       "29477  Mid-Range      Luxury         Luxury  \n",
       "29478  Mid-Range   Mid-Range         Luxury  \n",
       "29479        NaN         NaN            NaN  \n",
       "\n",
       "[29480 rows x 39 columns]"
      ]
     },
     "execution_count": 121,
     "metadata": {},
     "output_type": "execute_result"
    }
   ],
   "source": [
    "columns_to_drop = null_percentage[null_percentage > 60].index  \n",
    "df.drop(columns_to_drop, axis=1, inplace=True)\n",
    "df"
   ]
  },
  {
   "cell_type": "markdown",
   "metadata": {},
   "source": [
    "## <p style=\"background-color:yellow; font-family:newtimeroman; color:blue; font-size:150%; text-align:center; border-radius:10px 10px;\">Checking if there are any row with full of null values</p> \n",
    "\n",
    "* If all values are null, I'll drop that row"
   ]
  },
  {
   "cell_type": "code",
   "execution_count": 122,
   "metadata": {},
   "outputs": [
    {
     "data": {
      "text/plain": [
       "Make_Model              NaN\n",
       "Short_Description       NaN\n",
       "Make                    NaN\n",
       "Model                   NaN\n",
       "Location                NaN\n",
       "Price                   NaN\n",
       "Body_Type               NaN\n",
       "Type                    NaN\n",
       "Doors                   NaN\n",
       "Country_Version         NaN\n",
       "Offer_Number            NaN\n",
       "Warranty                NaN\n",
       "Mileage                 NaN\n",
       "First_Registration      NaT\n",
       "Gearbox                 NaN\n",
       "Fuel_Type               NaN\n",
       "Colour                  NaN\n",
       "Paint                   NaN\n",
       "Desc                    NaN\n",
       "Seller                  NaN\n",
       "Seats                   NaN\n",
       "Power                   NaN\n",
       "Engine_Size             NaN\n",
       "Gears                   NaN\n",
       "Co₂-Emissions           NaN\n",
       "Manufacturer_Colour     NaN\n",
       "Drivetrain              NaN\n",
       "Cylinders               NaN\n",
       "Fuel_Consumption        NaN\n",
       "Empty_Weight            NaN\n",
       "Full_Service_History    NaN\n",
       "Emission_Class          NaN\n",
       "Upholstery_Colour       NaN\n",
       "Upholstery              NaN\n",
       "Previous_Owner          NaN\n",
       "Com_Conv                NaN\n",
       "Ent_Media               NaN\n",
       "Safe_Secure             NaN\n",
       "Extras2                 NaN\n",
       "Name: 29479, dtype: object"
      ]
     },
     "execution_count": 122,
     "metadata": {},
     "output_type": "execute_result"
    }
   ],
   "source": [
    "df.iloc[29479]"
   ]
  },
  {
   "cell_type": "markdown",
   "metadata": {},
   "source": [
    "* As it appears, we have some rows which are full of null values\n",
    "* We have 850 rows which are full of null values, when I drop them, df will have 28630 rows"
   ]
  },
  {
   "cell_type": "code",
   "execution_count": 123,
   "metadata": {},
   "outputs": [],
   "source": [
    "df.dropna(axis=0, how='all', inplace=True)\n",
    "df.reset_index(drop=True, inplace=True)"
   ]
  },
  {
   "cell_type": "code",
   "execution_count": 147,
   "metadata": {
    "scrolled": true
   },
   "outputs": [],
   "source": [
    "df['Power']=df['Power'].astype(object)"
   ]
  },
  {
   "cell_type": "code",
   "execution_count": 150,
   "metadata": {
    "id": "Y13_gId7s1MC"
   },
   "outputs": [],
   "source": [
    "df.to_csv(\"cleaned.csv\")"
   ]
  },
  {
   "cell_type": "code",
   "execution_count": 148,
   "metadata": {
    "id": "WDZnqBhbs1ME"
   },
   "outputs": [
    {
     "data": {
      "text/plain": [
       "0        nan\n",
       "1        292\n",
       "2        421\n",
       "3        306\n",
       "4        136\n",
       "        ... \n",
       "28625    392\n",
       "28626    170\n",
       "28627    114\n",
       "28628    254\n",
       "28629    200\n",
       "Name: Power, Length: 28630, dtype: object"
      ]
     },
     "execution_count": 148,
     "metadata": {},
     "output_type": "execute_result"
    }
   ],
   "source": [
    "df['Power']"
   ]
  },
  {
   "cell_type": "markdown",
   "metadata": {
    "id": "gPPdPAu5s1ME"
   },
   "source": [
    "# PART- 3 `( Handling With Outliers )`"
   ]
  },
  {
   "cell_type": "code",
   "execution_count": null,
   "metadata": {
    "id": "Is4HLjHWs1MF"
   },
   "outputs": [],
   "source": []
  },
  {
   "cell_type": "markdown",
   "metadata": {
    "id": "EKxmsgfts1MG"
   },
   "source": [
    "# Final Step (Checking final situation of data via graphs)"
   ]
  },
  {
   "cell_type": "code",
   "execution_count": null,
   "metadata": {
    "id": "8mgL_Bd0s1MG"
   },
   "outputs": [],
   "source": []
  },
  {
   "cell_type": "markdown",
   "metadata": {
    "id": "2PgUVPoes1MH"
   },
   "source": [
    "## Export dataframe to csv file (without dummy)"
   ]
  },
  {
   "cell_type": "code",
   "execution_count": null,
   "metadata": {
    "id": "Byg_o2ZMs1MI"
   },
   "outputs": [],
   "source": [
    "df.to_csv(\"final_scout_not_dummy.csv\", index=False)"
   ]
  },
  {
   "cell_type": "markdown",
   "metadata": {
    "id": "hrw9hr-3s1MJ"
   },
   "source": [
    "# Dummy Operation"
   ]
  },
  {
   "cell_type": "code",
   "execution_count": null,
   "metadata": {
    "id": "faDyWTC9s1MJ"
   },
   "outputs": [],
   "source": []
  },
  {
   "cell_type": "markdown",
   "metadata": {
    "id": "DUOdihlqs1MJ"
   },
   "source": [
    "## Export dataframe to csv file (dummy)"
   ]
  },
  {
   "cell_type": "code",
   "execution_count": null,
   "metadata": {
    "id": "IJT7Yl1Us1MK"
   },
   "outputs": [],
   "source": [
    "df_dummied.to_csv(\"final_scout_dummy.csv\", index=False)"
   ]
  }
 ],
 "metadata": {
  "colab": {
   "name": "DAwPy-Capstone_Project_(AutoScout)_Student.ipynb",
   "provenance": []
  },
  "kernelspec": {
   "display_name": "Python 3 (ipykernel)",
   "language": "python",
   "name": "python3"
  },
  "language_info": {
   "codemirror_mode": {
    "name": "ipython",
    "version": 3
   },
   "file_extension": ".py",
   "mimetype": "text/x-python",
   "name": "python",
   "nbconvert_exporter": "python",
   "pygments_lexer": "ipython3",
   "version": "3.10.9"
  },
  "toc": {
   "base_numbering": 1,
   "nav_menu": {},
   "number_sections": false,
   "sideBar": true,
   "skip_h1_title": false,
   "title_cell": "Table of Contents",
   "title_sidebar": "Contents",
   "toc_cell": false,
   "toc_position": {},
   "toc_section_display": true,
   "toc_window_display": false
  }
 },
 "nbformat": 4,
 "nbformat_minor": 1
}
